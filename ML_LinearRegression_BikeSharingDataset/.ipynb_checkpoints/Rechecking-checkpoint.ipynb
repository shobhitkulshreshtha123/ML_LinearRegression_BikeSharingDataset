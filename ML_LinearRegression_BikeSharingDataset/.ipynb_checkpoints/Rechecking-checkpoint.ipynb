{
 "cells": [
  {
   "cell_type": "markdown",
   "metadata": {},
   "source": [
    "# LINEAR REGRESSION ASSIGNMENT\n",
    "\n",
    "## BIKE SHARING ASSIGNMENT"
   ]
  },
  {
   "cell_type": "markdown",
   "metadata": {},
   "source": [
    "STUDENT NAME: Shobhit Kulshreshtha\n",
    "\n",
    "BATCH: DSC33\n",
    "\n",
    "E MAIL: shobhit.kulshreshtha@gmail.com\n"
   ]
  },
  {
   "cell_type": "markdown",
   "metadata": {},
   "source": [
    "# PROBLEM STATEMENT UNDERSTANDING"
   ]
  },
  {
   "cell_type": "markdown",
   "metadata": {},
   "source": [
    "<b>The given situation pertains to a business problem being faced by BoomBikes.</b>\n",
    "\n",
    "The company has witnessed considerable dip in revenues during Covid induced lockdowns and suffered heavy losses and is struggling to survive.\n",
    "\n",
    "The company wants to create a robust business plan and has roped in a consulting company to help it understand the demand patterns of bike sharing ones the lockdown opens. Specifically, they wish to `understand the factors on which the demand of these bikes depends`.\n",
    "\n",
    "In a nutshell, deliverables by the consulting firm are:\n",
    "- Which variables are significant in predicting the demand for shared bikes.\n",
    "- How well those variables describe the bike demands"
   ]
  },
  {
   "cell_type": "markdown",
   "metadata": {},
   "source": [
    "# Section 1: Importing Libraries"
   ]
  },
  {
   "cell_type": "code",
   "execution_count": 1,
   "metadata": {},
   "outputs": [],
   "source": [
    "\n",
    "import pandas as pd\n",
    "import numpy as np\n",
    "import matplotlib.pyplot as plt\n",
    "import seaborn as sns\n"
   ]
  },
  {
   "cell_type": "code",
   "execution_count": 2,
   "metadata": {},
   "outputs": [],
   "source": [
    "\n",
    "import warnings\n",
    "warnings.filterwarnings('ignore')\n"
   ]
  },
  {
   "cell_type": "code",
   "execution_count": 3,
   "metadata": {},
   "outputs": [],
   "source": [
    "\n",
    "from sklearn.model_selection import train_test_split\n",
    "from sklearn.preprocessing import MinMaxScaler\n",
    "from sklearn.linear_model import LinearRegression\n",
    "from sklearn.feature_selection import RFE\n",
    "from sklearn.metrics import r2_score\n"
   ]
  },
  {
   "cell_type": "code",
   "execution_count": 4,
   "metadata": {},
   "outputs": [],
   "source": [
    "\n",
    "import statsmodels\n",
    "import statsmodels.api as sm\n",
    "from statsmodels.stats.outliers_influence import variance_inflation_factor\n"
   ]
  },
  {
   "cell_type": "code",
   "execution_count": 5,
   "metadata": {},
   "outputs": [],
   "source": [
    "\n",
    "pd.set_option('display.float_format', lambda x: '%.5f' % x)\n"
   ]
  },
  {
   "cell_type": "markdown",
   "metadata": {},
   "source": [
    "# Section 2: Loading and Basic Data Understanding"
   ]
  },
  {
   "cell_type": "markdown",
   "metadata": {},
   "source": [
    "## Section 2.1: Loading Dataset"
   ]
  },
  {
   "cell_type": "code",
   "execution_count": 6,
   "metadata": {},
   "outputs": [
    {
     "data": {
      "text/html": [
       "<div>\n",
       "<style scoped>\n",
       "    .dataframe tbody tr th:only-of-type {\n",
       "        vertical-align: middle;\n",
       "    }\n",
       "\n",
       "    .dataframe tbody tr th {\n",
       "        vertical-align: top;\n",
       "    }\n",
       "\n",
       "    .dataframe thead th {\n",
       "        text-align: right;\n",
       "    }\n",
       "</style>\n",
       "<table border=\"1\" class=\"dataframe\">\n",
       "  <thead>\n",
       "    <tr style=\"text-align: right;\">\n",
       "      <th></th>\n",
       "      <th>instant</th>\n",
       "      <th>dteday</th>\n",
       "      <th>season</th>\n",
       "      <th>yr</th>\n",
       "      <th>mnth</th>\n",
       "      <th>holiday</th>\n",
       "      <th>weekday</th>\n",
       "      <th>workingday</th>\n",
       "      <th>weathersit</th>\n",
       "      <th>temp</th>\n",
       "      <th>atemp</th>\n",
       "      <th>hum</th>\n",
       "      <th>windspeed</th>\n",
       "      <th>casual</th>\n",
       "      <th>registered</th>\n",
       "      <th>cnt</th>\n",
       "    </tr>\n",
       "  </thead>\n",
       "  <tbody>\n",
       "    <tr>\n",
       "      <th>0</th>\n",
       "      <td>1</td>\n",
       "      <td>01-01-2018</td>\n",
       "      <td>1</td>\n",
       "      <td>0</td>\n",
       "      <td>1</td>\n",
       "      <td>0</td>\n",
       "      <td>1</td>\n",
       "      <td>1</td>\n",
       "      <td>2</td>\n",
       "      <td>14.11085</td>\n",
       "      <td>18.18125</td>\n",
       "      <td>80.58330</td>\n",
       "      <td>10.74988</td>\n",
       "      <td>331</td>\n",
       "      <td>654</td>\n",
       "      <td>985</td>\n",
       "    </tr>\n",
       "    <tr>\n",
       "      <th>1</th>\n",
       "      <td>2</td>\n",
       "      <td>02-01-2018</td>\n",
       "      <td>1</td>\n",
       "      <td>0</td>\n",
       "      <td>1</td>\n",
       "      <td>0</td>\n",
       "      <td>2</td>\n",
       "      <td>1</td>\n",
       "      <td>2</td>\n",
       "      <td>14.90260</td>\n",
       "      <td>17.68695</td>\n",
       "      <td>69.60870</td>\n",
       "      <td>16.65211</td>\n",
       "      <td>131</td>\n",
       "      <td>670</td>\n",
       "      <td>801</td>\n",
       "    </tr>\n",
       "    <tr>\n",
       "      <th>2</th>\n",
       "      <td>3</td>\n",
       "      <td>03-01-2018</td>\n",
       "      <td>1</td>\n",
       "      <td>0</td>\n",
       "      <td>1</td>\n",
       "      <td>0</td>\n",
       "      <td>3</td>\n",
       "      <td>1</td>\n",
       "      <td>1</td>\n",
       "      <td>8.05092</td>\n",
       "      <td>9.47025</td>\n",
       "      <td>43.72730</td>\n",
       "      <td>16.63670</td>\n",
       "      <td>120</td>\n",
       "      <td>1229</td>\n",
       "      <td>1349</td>\n",
       "    </tr>\n",
       "    <tr>\n",
       "      <th>3</th>\n",
       "      <td>4</td>\n",
       "      <td>04-01-2018</td>\n",
       "      <td>1</td>\n",
       "      <td>0</td>\n",
       "      <td>1</td>\n",
       "      <td>0</td>\n",
       "      <td>4</td>\n",
       "      <td>1</td>\n",
       "      <td>1</td>\n",
       "      <td>8.20000</td>\n",
       "      <td>10.60610</td>\n",
       "      <td>59.04350</td>\n",
       "      <td>10.73983</td>\n",
       "      <td>108</td>\n",
       "      <td>1454</td>\n",
       "      <td>1562</td>\n",
       "    </tr>\n",
       "    <tr>\n",
       "      <th>4</th>\n",
       "      <td>5</td>\n",
       "      <td>05-01-2018</td>\n",
       "      <td>1</td>\n",
       "      <td>0</td>\n",
       "      <td>1</td>\n",
       "      <td>0</td>\n",
       "      <td>5</td>\n",
       "      <td>1</td>\n",
       "      <td>1</td>\n",
       "      <td>9.30524</td>\n",
       "      <td>11.46350</td>\n",
       "      <td>43.69570</td>\n",
       "      <td>12.52230</td>\n",
       "      <td>82</td>\n",
       "      <td>1518</td>\n",
       "      <td>1600</td>\n",
       "    </tr>\n",
       "  </tbody>\n",
       "</table>\n",
       "</div>"
      ],
      "text/plain": [
       "   instant      dteday  season  yr  mnth  holiday  weekday  workingday  \\\n",
       "0        1  01-01-2018       1   0     1        0        1           1   \n",
       "1        2  02-01-2018       1   0     1        0        2           1   \n",
       "2        3  03-01-2018       1   0     1        0        3           1   \n",
       "3        4  04-01-2018       1   0     1        0        4           1   \n",
       "4        5  05-01-2018       1   0     1        0        5           1   \n",
       "\n",
       "   weathersit     temp    atemp      hum  windspeed  casual  registered   cnt  \n",
       "0           2 14.11085 18.18125 80.58330   10.74988     331         654   985  \n",
       "1           2 14.90260 17.68695 69.60870   16.65211     131         670   801  \n",
       "2           1  8.05092  9.47025 43.72730   16.63670     120        1229  1349  \n",
       "3           1  8.20000 10.60610 59.04350   10.73983     108        1454  1562  \n",
       "4           1  9.30524 11.46350 43.69570   12.52230      82        1518  1600  "
      ]
     },
     "execution_count": 6,
     "metadata": {},
     "output_type": "execute_result"
    }
   ],
   "source": [
    "\n",
    "boombikes= pd.read_csv('day.csv')\n",
    "boombikes.head()\n"
   ]
  },
  {
   "cell_type": "markdown",
   "metadata": {},
   "source": [
    "## Section 2.2: Basic Observations and Data Understanding"
   ]
  },
  {
   "cell_type": "code",
   "execution_count": 7,
   "metadata": {},
   "outputs": [
    {
     "name": "stdout",
     "output_type": "stream",
     "text": [
      "Given dataset contains 730 rows and 16 columns.\n"
     ]
    }
   ],
   "source": [
    "\n",
    "print(f'Given dataset contains {boombikes.shape[0]} rows and {boombikes.shape[1]} columns.')\n"
   ]
  },
  {
   "cell_type": "code",
   "execution_count": 8,
   "metadata": {},
   "outputs": [
    {
     "name": "stdout",
     "output_type": "stream",
     "text": [
      "<class 'pandas.core.frame.DataFrame'>\n",
      "RangeIndex: 730 entries, 0 to 729\n",
      "Data columns (total 16 columns):\n",
      " #   Column      Non-Null Count  Dtype  \n",
      "---  ------      --------------  -----  \n",
      " 0   instant     730 non-null    int64  \n",
      " 1   dteday      730 non-null    object \n",
      " 2   season      730 non-null    int64  \n",
      " 3   yr          730 non-null    int64  \n",
      " 4   mnth        730 non-null    int64  \n",
      " 5   holiday     730 non-null    int64  \n",
      " 6   weekday     730 non-null    int64  \n",
      " 7   workingday  730 non-null    int64  \n",
      " 8   weathersit  730 non-null    int64  \n",
      " 9   temp        730 non-null    float64\n",
      " 10  atemp       730 non-null    float64\n",
      " 11  hum         730 non-null    float64\n",
      " 12  windspeed   730 non-null    float64\n",
      " 13  casual      730 non-null    int64  \n",
      " 14  registered  730 non-null    int64  \n",
      " 15  cnt         730 non-null    int64  \n",
      "dtypes: float64(4), int64(11), object(1)\n",
      "memory usage: 91.4+ KB\n"
     ]
    }
   ],
   "source": [
    "\n",
    "boombikes.info()\n"
   ]
  },
  {
   "cell_type": "markdown",
   "metadata": {},
   "source": [
    "<b> Observations: </b>\n",
    "- Dataset contains 730 rows\n",
    "- Dataset contains 15 columns\n",
    "- <b>`Dataset does not have null values. Hence, null value handling will not be done as a part of this assignment`</b>"
   ]
  },
  {
   "cell_type": "code",
   "execution_count": 9,
   "metadata": {},
   "outputs": [
    {
     "data": {
      "text/plain": [
       "0"
      ]
     },
     "execution_count": 9,
     "metadata": {},
     "output_type": "execute_result"
    }
   ],
   "source": [
    "\n",
    "# Checking for duplicate values:\n",
    "len(boombikes[boombikes.duplicated()])\n"
   ]
  },
  {
   "cell_type": "markdown",
   "metadata": {},
   "source": [
    "No duplicate values found"
   ]
  },
  {
   "cell_type": "markdown",
   "metadata": {},
   "source": [
    "### Section 2.2.1: Feature Understanding"
   ]
  },
  {
   "cell_type": "markdown",
   "metadata": {},
   "source": [
    "<b>Following information about various columns has been extracted from data dictionary. Columns further understanding is highlighted by the researcher wherever an explanation is needed:</b>\n",
    "\n",
    "- instant: record index `This column acts just as a serial number and is thus redundant. It will be dropped in next step.`\n",
    "\n",
    "\n",
    "- dteday : date `Since purpose of this assignment is aimed at linear regression, and we have been given the day of the week, month, year, holiday data in seperate columns, we will drop this column in next step too`\n",
    "\n",
    "\n",
    "- season : season (1:spring, 2:summer, 3:fall, 4:winter) `This feature will be converted to season names so that proper dummies can be created`\n",
    "\n",
    "\n",
    "- yr : year (0: 2018, 1:2019) `his column signifies the year in boolean form as indicated.`\n",
    "\n",
    " \n",
    "- mnth : month ( 1 to 12) `This feature will be converted to month names so that proper dummies can be created`\n",
    "\n",
    "\n",
    "- holiday : weather day is a holiday or not (extracted from http://dchr.dc.gov/page/holiday-schedule) `This is a binary variable`\n",
    "\n",
    "\n",
    "- weekday : day of the week `This feature will be converted to day names so that proper dummies can be created`\n",
    "\n",
    "\n",
    "- workingday : if day is neither weekend nor holiday is 1, otherwise is 0. `This variable is an extract of holiday and weekday. During the course of assignment, post visualization, researcher will decide on transforming this column further if rquired.`\n",
    "\n",
    "\n",
    "- weathersit : `Numeric values in this variable will be converted to below mentioned text entries. Post conversion, patterns will be visualized and dummy variables will be created before the model development`\n",
    "\t- 1: Clear, Few clouds, Partly cloudy, Partly cloudy `This will be converted to \"Clear to Partly Cloudy\"`\n",
    "\t- 2: Mist + Cloudy, Mist + Broken clouds, Mist + Few clouds, Mist `This will be converted to \"misty and cloudy\"`\n",
    "\t- 3: Light Snow, Light Rain + Thunderstorm + Scattered clouds, Light Rain + Scattered clouds `This will be converted to \"light rain and light snow\"`\n",
    "\t- 4: Heavy Rain + Ice Pallets + Thunderstorm + Mist, Snow + Fog `This will be converted to \"heavy rain and heavy snow\"`\n",
    "\n",
    "\n",
    "- temp : temperature in Celsius\n",
    "\n",
    "\n",
    "- atemp: feeling temperature in Celsius\n",
    "\n",
    "\n",
    "- hum: humidity\n",
    "\n",
    "\n",
    "- windspeed: wind speed\n",
    "\n",
    "\n",
    "- casual: count of casual users `Unregistered customers`\n",
    "\n",
    "\n",
    "- registered: count of registered users\n",
    "\n",
    "\n",
    "- cnt: count of total rental bikes including both casual and registered `This is the Target Variable. Since this column is sum of casual and registered, ideally we should drop both the variables. However, we will decide on dropping them at a later stage post visualization.`"
   ]
  },
  {
   "cell_type": "markdown",
   "metadata": {},
   "source": [
    "<b> Dropping features based on above shared logic </b>"
   ]
  },
  {
   "cell_type": "code",
   "execution_count": 10,
   "metadata": {},
   "outputs": [
    {
     "data": {
      "text/html": [
       "<div>\n",
       "<style scoped>\n",
       "    .dataframe tbody tr th:only-of-type {\n",
       "        vertical-align: middle;\n",
       "    }\n",
       "\n",
       "    .dataframe tbody tr th {\n",
       "        vertical-align: top;\n",
       "    }\n",
       "\n",
       "    .dataframe thead th {\n",
       "        text-align: right;\n",
       "    }\n",
       "</style>\n",
       "<table border=\"1\" class=\"dataframe\">\n",
       "  <thead>\n",
       "    <tr style=\"text-align: right;\">\n",
       "      <th></th>\n",
       "      <th>season</th>\n",
       "      <th>yr</th>\n",
       "      <th>mnth</th>\n",
       "      <th>holiday</th>\n",
       "      <th>weekday</th>\n",
       "      <th>workingday</th>\n",
       "      <th>weathersit</th>\n",
       "      <th>temp</th>\n",
       "      <th>atemp</th>\n",
       "      <th>hum</th>\n",
       "      <th>windspeed</th>\n",
       "      <th>casual</th>\n",
       "      <th>registered</th>\n",
       "      <th>cnt</th>\n",
       "    </tr>\n",
       "  </thead>\n",
       "  <tbody>\n",
       "    <tr>\n",
       "      <th>0</th>\n",
       "      <td>1</td>\n",
       "      <td>0</td>\n",
       "      <td>1</td>\n",
       "      <td>0</td>\n",
       "      <td>1</td>\n",
       "      <td>1</td>\n",
       "      <td>2</td>\n",
       "      <td>14.11085</td>\n",
       "      <td>18.18125</td>\n",
       "      <td>80.58330</td>\n",
       "      <td>10.74988</td>\n",
       "      <td>331</td>\n",
       "      <td>654</td>\n",
       "      <td>985</td>\n",
       "    </tr>\n",
       "    <tr>\n",
       "      <th>1</th>\n",
       "      <td>1</td>\n",
       "      <td>0</td>\n",
       "      <td>1</td>\n",
       "      <td>0</td>\n",
       "      <td>2</td>\n",
       "      <td>1</td>\n",
       "      <td>2</td>\n",
       "      <td>14.90260</td>\n",
       "      <td>17.68695</td>\n",
       "      <td>69.60870</td>\n",
       "      <td>16.65211</td>\n",
       "      <td>131</td>\n",
       "      <td>670</td>\n",
       "      <td>801</td>\n",
       "    </tr>\n",
       "  </tbody>\n",
       "</table>\n",
       "</div>"
      ],
      "text/plain": [
       "   season  yr  mnth  holiday  weekday  workingday  weathersit     temp  \\\n",
       "0       1   0     1        0        1           1           2 14.11085   \n",
       "1       1   0     1        0        2           1           2 14.90260   \n",
       "\n",
       "     atemp      hum  windspeed  casual  registered  cnt  \n",
       "0 18.18125 80.58330   10.74988     331         654  985  \n",
       "1 17.68695 69.60870   16.65211     131         670  801  "
      ]
     },
     "execution_count": 10,
     "metadata": {},
     "output_type": "execute_result"
    }
   ],
   "source": [
    "\n",
    "# Creating variable to store list of feature names to be dropped\n",
    "drop_col= ['instant', 'dteday']\n",
    "\n",
    "# Creating a loop to drop the columns\n",
    "for i in boombikes.columns:\n",
    "    if i in drop_col:\n",
    "        boombikes.drop(labels= i, axis= 1, inplace= True)\n",
    "        \n",
    "#Inspecting dataframe\n",
    "boombikes.head(2)\n"
   ]
  },
  {
   "cell_type": "markdown",
   "metadata": {},
   "source": [
    "<b> Basic Data Propriety Assesment</b>"
   ]
  },
  {
   "cell_type": "code",
   "execution_count": 11,
   "metadata": {},
   "outputs": [
    {
     "data": {
      "text/html": [
       "<div>\n",
       "<style scoped>\n",
       "    .dataframe tbody tr th:only-of-type {\n",
       "        vertical-align: middle;\n",
       "    }\n",
       "\n",
       "    .dataframe tbody tr th {\n",
       "        vertical-align: top;\n",
       "    }\n",
       "\n",
       "    .dataframe thead th {\n",
       "        text-align: right;\n",
       "    }\n",
       "</style>\n",
       "<table border=\"1\" class=\"dataframe\">\n",
       "  <thead>\n",
       "    <tr style=\"text-align: right;\">\n",
       "      <th></th>\n",
       "      <th>season</th>\n",
       "      <th>yr</th>\n",
       "      <th>mnth</th>\n",
       "      <th>holiday</th>\n",
       "      <th>weekday</th>\n",
       "      <th>workingday</th>\n",
       "      <th>weathersit</th>\n",
       "      <th>temp</th>\n",
       "      <th>atemp</th>\n",
       "      <th>hum</th>\n",
       "      <th>windspeed</th>\n",
       "      <th>casual</th>\n",
       "      <th>registered</th>\n",
       "      <th>cnt</th>\n",
       "    </tr>\n",
       "  </thead>\n",
       "  <tbody>\n",
       "    <tr>\n",
       "      <th>count</th>\n",
       "      <td>730.00000</td>\n",
       "      <td>730.00000</td>\n",
       "      <td>730.00000</td>\n",
       "      <td>730.00000</td>\n",
       "      <td>730.00000</td>\n",
       "      <td>730.00000</td>\n",
       "      <td>730.00000</td>\n",
       "      <td>730.00000</td>\n",
       "      <td>730.00000</td>\n",
       "      <td>730.00000</td>\n",
       "      <td>730.00000</td>\n",
       "      <td>730.00000</td>\n",
       "      <td>730.00000</td>\n",
       "      <td>730.00000</td>\n",
       "    </tr>\n",
       "    <tr>\n",
       "      <th>mean</th>\n",
       "      <td>2.49863</td>\n",
       "      <td>0.50000</td>\n",
       "      <td>6.52603</td>\n",
       "      <td>0.02877</td>\n",
       "      <td>2.99589</td>\n",
       "      <td>0.69041</td>\n",
       "      <td>1.39452</td>\n",
       "      <td>20.31926</td>\n",
       "      <td>23.72632</td>\n",
       "      <td>62.76517</td>\n",
       "      <td>12.76362</td>\n",
       "      <td>849.24932</td>\n",
       "      <td>3658.75753</td>\n",
       "      <td>4508.00685</td>\n",
       "    </tr>\n",
       "    <tr>\n",
       "      <th>std</th>\n",
       "      <td>1.11018</td>\n",
       "      <td>0.50034</td>\n",
       "      <td>3.45022</td>\n",
       "      <td>0.16727</td>\n",
       "      <td>2.00034</td>\n",
       "      <td>0.46264</td>\n",
       "      <td>0.54481</td>\n",
       "      <td>7.50673</td>\n",
       "      <td>8.15031</td>\n",
       "      <td>14.23759</td>\n",
       "      <td>5.19584</td>\n",
       "      <td>686.47987</td>\n",
       "      <td>1559.75873</td>\n",
       "      <td>1936.01165</td>\n",
       "    </tr>\n",
       "    <tr>\n",
       "      <th>min</th>\n",
       "      <td>1.00000</td>\n",
       "      <td>0.00000</td>\n",
       "      <td>1.00000</td>\n",
       "      <td>0.00000</td>\n",
       "      <td>0.00000</td>\n",
       "      <td>0.00000</td>\n",
       "      <td>1.00000</td>\n",
       "      <td>2.42435</td>\n",
       "      <td>3.95348</td>\n",
       "      <td>0.00000</td>\n",
       "      <td>1.50024</td>\n",
       "      <td>2.00000</td>\n",
       "      <td>20.00000</td>\n",
       "      <td>22.00000</td>\n",
       "    </tr>\n",
       "    <tr>\n",
       "      <th>25%</th>\n",
       "      <td>2.00000</td>\n",
       "      <td>0.00000</td>\n",
       "      <td>4.00000</td>\n",
       "      <td>0.00000</td>\n",
       "      <td>1.00000</td>\n",
       "      <td>0.00000</td>\n",
       "      <td>1.00000</td>\n",
       "      <td>13.81189</td>\n",
       "      <td>16.88971</td>\n",
       "      <td>52.00000</td>\n",
       "      <td>9.04165</td>\n",
       "      <td>316.25000</td>\n",
       "      <td>2502.25000</td>\n",
       "      <td>3169.75000</td>\n",
       "    </tr>\n",
       "    <tr>\n",
       "      <th>50%</th>\n",
       "      <td>3.00000</td>\n",
       "      <td>0.50000</td>\n",
       "      <td>7.00000</td>\n",
       "      <td>0.00000</td>\n",
       "      <td>3.00000</td>\n",
       "      <td>1.00000</td>\n",
       "      <td>1.00000</td>\n",
       "      <td>20.46583</td>\n",
       "      <td>24.36822</td>\n",
       "      <td>62.62500</td>\n",
       "      <td>12.12533</td>\n",
       "      <td>717.00000</td>\n",
       "      <td>3664.50000</td>\n",
       "      <td>4548.50000</td>\n",
       "    </tr>\n",
       "    <tr>\n",
       "      <th>75%</th>\n",
       "      <td>3.00000</td>\n",
       "      <td>1.00000</td>\n",
       "      <td>10.00000</td>\n",
       "      <td>0.00000</td>\n",
       "      <td>5.00000</td>\n",
       "      <td>1.00000</td>\n",
       "      <td>2.00000</td>\n",
       "      <td>26.88061</td>\n",
       "      <td>30.44577</td>\n",
       "      <td>72.98958</td>\n",
       "      <td>15.62559</td>\n",
       "      <td>1096.50000</td>\n",
       "      <td>4783.25000</td>\n",
       "      <td>5966.00000</td>\n",
       "    </tr>\n",
       "    <tr>\n",
       "      <th>max</th>\n",
       "      <td>4.00000</td>\n",
       "      <td>1.00000</td>\n",
       "      <td>12.00000</td>\n",
       "      <td>1.00000</td>\n",
       "      <td>6.00000</td>\n",
       "      <td>1.00000</td>\n",
       "      <td>3.00000</td>\n",
       "      <td>35.32835</td>\n",
       "      <td>42.04480</td>\n",
       "      <td>97.25000</td>\n",
       "      <td>34.00002</td>\n",
       "      <td>3410.00000</td>\n",
       "      <td>6946.00000</td>\n",
       "      <td>8714.00000</td>\n",
       "    </tr>\n",
       "  </tbody>\n",
       "</table>\n",
       "</div>"
      ],
      "text/plain": [
       "         season        yr      mnth   holiday   weekday  workingday  \\\n",
       "count 730.00000 730.00000 730.00000 730.00000 730.00000   730.00000   \n",
       "mean    2.49863   0.50000   6.52603   0.02877   2.99589     0.69041   \n",
       "std     1.11018   0.50034   3.45022   0.16727   2.00034     0.46264   \n",
       "min     1.00000   0.00000   1.00000   0.00000   0.00000     0.00000   \n",
       "25%     2.00000   0.00000   4.00000   0.00000   1.00000     0.00000   \n",
       "50%     3.00000   0.50000   7.00000   0.00000   3.00000     1.00000   \n",
       "75%     3.00000   1.00000  10.00000   0.00000   5.00000     1.00000   \n",
       "max     4.00000   1.00000  12.00000   1.00000   6.00000     1.00000   \n",
       "\n",
       "       weathersit      temp     atemp       hum  windspeed     casual  \\\n",
       "count   730.00000 730.00000 730.00000 730.00000  730.00000  730.00000   \n",
       "mean      1.39452  20.31926  23.72632  62.76517   12.76362  849.24932   \n",
       "std       0.54481   7.50673   8.15031  14.23759    5.19584  686.47987   \n",
       "min       1.00000   2.42435   3.95348   0.00000    1.50024    2.00000   \n",
       "25%       1.00000  13.81189  16.88971  52.00000    9.04165  316.25000   \n",
       "50%       1.00000  20.46583  24.36822  62.62500   12.12533  717.00000   \n",
       "75%       2.00000  26.88061  30.44577  72.98958   15.62559 1096.50000   \n",
       "max       3.00000  35.32835  42.04480  97.25000   34.00002 3410.00000   \n",
       "\n",
       "       registered        cnt  \n",
       "count   730.00000  730.00000  \n",
       "mean   3658.75753 4508.00685  \n",
       "std    1559.75873 1936.01165  \n",
       "min      20.00000   22.00000  \n",
       "25%    2502.25000 3169.75000  \n",
       "50%    3664.50000 4548.50000  \n",
       "75%    4783.25000 5966.00000  \n",
       "max    6946.00000 8714.00000  "
      ]
     },
     "execution_count": 11,
     "metadata": {},
     "output_type": "execute_result"
    }
   ],
   "source": [
    "\n",
    "boombikes.describe()\n"
   ]
  },
  {
   "cell_type": "markdown",
   "metadata": {},
   "source": [
    "<b>Observations:</b>\n",
    "\n",
    "- <b>season</b>: Season column has 4 values depicting each of the 4 seasons. No deviation found.\n",
    "- <b>yr</b>: Data comprises of exactly 2 years\n",
    "- <b>mnth</b>: Number of months is exactly 12 hence no abnormalities noticed.\n",
    "- <b>holiday</b>: Max is 1 and Min is 0. No deviation in this bollean column\n",
    "- <b>weekday</b>: Weekdays are depicted as exactly 7 (0 to 6) corresponding to each day name. On checking data, it was noticed that the numeric values start from 0 on Sunday.\n",
    "- <b>weathersit</b>: As per data dictionary, we are supposed to have 4 weather situations whereas the data does not contain 4th weather. The values corerspond to weather situation 1 OR 2 OR 3 only.\n",
    "- <b>temp</b>: Variance of temperature is between 2.4 and 35.3 with median value of 20.5. This is indicative of tropical climate in the region as per Wikipedia Article that places mean temperature of tropical regions at around 18+ degree celsius: https://en.wikipedia.org/wiki/Tropical_climate This could, to a certain extent, possibly explain the absence of fourth season.\n",
    "- <b>hum</b>: Humidity levels Q1 and Q3 are 50% + showing a relatively humid weather.\n",
    "- <b>windpeed</b>: Windspeed doesnt show a heavy variance. Relatively calmer winds.\n",
    "- <b>casual</b>: Relatively high variance as compared to 'registered'.\n",
    "- <b>registered</b>: With given numbers, it seems to be more in line with the trend on target variable (cnt).\n"
   ]
  },
  {
   "cell_type": "markdown",
   "metadata": {},
   "source": [
    "<b> Transforming season, weathersit, mnth and weekday columns based on above logic</b>"
   ]
  },
  {
   "cell_type": "code",
   "execution_count": 12,
   "metadata": {},
   "outputs": [
    {
     "data": {
      "text/html": [
       "<div>\n",
       "<style scoped>\n",
       "    .dataframe tbody tr th:only-of-type {\n",
       "        vertical-align: middle;\n",
       "    }\n",
       "\n",
       "    .dataframe tbody tr th {\n",
       "        vertical-align: top;\n",
       "    }\n",
       "\n",
       "    .dataframe thead th {\n",
       "        text-align: right;\n",
       "    }\n",
       "</style>\n",
       "<table border=\"1\" class=\"dataframe\">\n",
       "  <thead>\n",
       "    <tr style=\"text-align: right;\">\n",
       "      <th></th>\n",
       "      <th>season</th>\n",
       "      <th>yr</th>\n",
       "      <th>mnth</th>\n",
       "      <th>holiday</th>\n",
       "      <th>weekday</th>\n",
       "      <th>workingday</th>\n",
       "      <th>weathersit</th>\n",
       "      <th>temp</th>\n",
       "      <th>atemp</th>\n",
       "      <th>hum</th>\n",
       "      <th>windspeed</th>\n",
       "      <th>casual</th>\n",
       "      <th>registered</th>\n",
       "      <th>cnt</th>\n",
       "    </tr>\n",
       "  </thead>\n",
       "  <tbody>\n",
       "    <tr>\n",
       "      <th>0</th>\n",
       "      <td>Spring</td>\n",
       "      <td>0</td>\n",
       "      <td>Jan</td>\n",
       "      <td>0</td>\n",
       "      <td>Mon</td>\n",
       "      <td>1</td>\n",
       "      <td>Misty and Cloudy</td>\n",
       "      <td>14.11085</td>\n",
       "      <td>18.18125</td>\n",
       "      <td>80.58330</td>\n",
       "      <td>10.74988</td>\n",
       "      <td>331</td>\n",
       "      <td>654</td>\n",
       "      <td>985</td>\n",
       "    </tr>\n",
       "    <tr>\n",
       "      <th>1</th>\n",
       "      <td>Spring</td>\n",
       "      <td>0</td>\n",
       "      <td>Jan</td>\n",
       "      <td>0</td>\n",
       "      <td>Tue</td>\n",
       "      <td>1</td>\n",
       "      <td>Misty and Cloudy</td>\n",
       "      <td>14.90260</td>\n",
       "      <td>17.68695</td>\n",
       "      <td>69.60870</td>\n",
       "      <td>16.65211</td>\n",
       "      <td>131</td>\n",
       "      <td>670</td>\n",
       "      <td>801</td>\n",
       "    </tr>\n",
       "    <tr>\n",
       "      <th>2</th>\n",
       "      <td>Spring</td>\n",
       "      <td>0</td>\n",
       "      <td>Jan</td>\n",
       "      <td>0</td>\n",
       "      <td>Wed</td>\n",
       "      <td>1</td>\n",
       "      <td>Clear to Partly Cloudy</td>\n",
       "      <td>8.05092</td>\n",
       "      <td>9.47025</td>\n",
       "      <td>43.72730</td>\n",
       "      <td>16.63670</td>\n",
       "      <td>120</td>\n",
       "      <td>1229</td>\n",
       "      <td>1349</td>\n",
       "    </tr>\n",
       "    <tr>\n",
       "      <th>3</th>\n",
       "      <td>Spring</td>\n",
       "      <td>0</td>\n",
       "      <td>Jan</td>\n",
       "      <td>0</td>\n",
       "      <td>Thu</td>\n",
       "      <td>1</td>\n",
       "      <td>Clear to Partly Cloudy</td>\n",
       "      <td>8.20000</td>\n",
       "      <td>10.60610</td>\n",
       "      <td>59.04350</td>\n",
       "      <td>10.73983</td>\n",
       "      <td>108</td>\n",
       "      <td>1454</td>\n",
       "      <td>1562</td>\n",
       "    </tr>\n",
       "    <tr>\n",
       "      <th>4</th>\n",
       "      <td>Spring</td>\n",
       "      <td>0</td>\n",
       "      <td>Jan</td>\n",
       "      <td>0</td>\n",
       "      <td>Fri</td>\n",
       "      <td>1</td>\n",
       "      <td>Clear to Partly Cloudy</td>\n",
       "      <td>9.30524</td>\n",
       "      <td>11.46350</td>\n",
       "      <td>43.69570</td>\n",
       "      <td>12.52230</td>\n",
       "      <td>82</td>\n",
       "      <td>1518</td>\n",
       "      <td>1600</td>\n",
       "    </tr>\n",
       "  </tbody>\n",
       "</table>\n",
       "</div>"
      ],
      "text/plain": [
       "   season  yr mnth  holiday weekday  workingday              weathersit  \\\n",
       "0  Spring   0  Jan        0     Mon           1        Misty and Cloudy   \n",
       "1  Spring   0  Jan        0     Tue           1        Misty and Cloudy   \n",
       "2  Spring   0  Jan        0     Wed           1  Clear to Partly Cloudy   \n",
       "3  Spring   0  Jan        0     Thu           1  Clear to Partly Cloudy   \n",
       "4  Spring   0  Jan        0     Fri           1  Clear to Partly Cloudy   \n",
       "\n",
       "      temp    atemp      hum  windspeed  casual  registered   cnt  \n",
       "0 14.11085 18.18125 80.58330   10.74988     331         654   985  \n",
       "1 14.90260 17.68695 69.60870   16.65211     131         670   801  \n",
       "2  8.05092  9.47025 43.72730   16.63670     120        1229  1349  \n",
       "3  8.20000 10.60610 59.04350   10.73983     108        1454  1562  \n",
       "4  9.30524 11.46350 43.69570   12.52230      82        1518  1600  "
      ]
     },
     "execution_count": 12,
     "metadata": {},
     "output_type": "execute_result"
    }
   ],
   "source": [
    "\n",
    "# Transforming weathersit feature:\n",
    "\n",
    "boombikes['weathersit']= boombikes['weathersit'].map({1: 'Clear to Partly Cloudy', 2: 'Misty and Cloudy', \n",
    "                                                      3: 'Light Rain or Snow', 4: 'Heavy Rain or Snow'})\n",
    "\n",
    "\n",
    "# Transforming season feature:\n",
    "\n",
    "boombikes['season']= boombikes['season'].map({1:'Spring', 2:'Summer', 3:'Fall', 4:'Winter'})\n",
    "\n",
    "\n",
    "# Mapping Month feature:\n",
    "\n",
    "boombikes['mnth']= boombikes['mnth'].map({1: 'Jan', 2: 'Feb', 3: 'Mar', 4: 'Apr', 5: 'May', 6: 'Jun',\n",
    "                      7: 'Jul', 8: 'Aug', 9: 'Sep', 10: 'Oct', 11: 'Nov', 12: 'Dec'})\n",
    "\n",
    "\n",
    "# Mapping Weekday feature:\n",
    "\n",
    "boombikes['weekday']= boombikes['weekday'].map({0: 'Sun', 1: 'Mon', 2: 'Tue', 3: 'Wed', 4: 'Thu', 5: 'Fri', 6: 'Sat'})\n",
    "\n",
    "\n",
    "# Re - Observing The dataset\n",
    "\n",
    "boombikes.head()\n"
   ]
  },
  {
   "cell_type": "markdown",
   "metadata": {},
   "source": [
    "# Section 3: Exploratory Data Analysis"
   ]
  },
  {
   "cell_type": "markdown",
   "metadata": {},
   "source": [
    "## Section 3.1: Univariate Analysis"
   ]
  },
  {
   "cell_type": "markdown",
   "metadata": {},
   "source": [
    "### Section 3.1.1: Target Variable"
   ]
  },
  {
   "cell_type": "code",
   "execution_count": 13,
   "metadata": {},
   "outputs": [
    {
     "data": {
      "image/png": "[encoded data removed]",
      "text/plain": [
       "<Figure size 864x360 with 2 Axes>"
      ]
     },
     "metadata": {
      "needs_background": "light"
     },
     "output_type": "display_data"
    }
   ],
   "source": [
    "\n",
    "# Creating subplot grid:\n",
    "fig, ax= plt.subplots(nrows= 1, ncols= 2, figsize= (12, 5))\n",
    "\n",
    "# Creating main title\n",
    "fig.suptitle('basic analysis of target variable (cnt)'.upper(), fontsize= 20)\n",
    "\n",
    "# Populating plot1:\n",
    "sns.boxplot(y=boombikes['cnt'], ax= ax[0], palette= 'Purples')\n",
    "ax[0].set_title('boxplot showing the basic statistics of target variable'.upper(), \n",
    "                fontsize= 12, fontweight= 20, y= 1.02)\n",
    "ax[0].set_ylabel(' ')\n",
    "ax[0].set_xlabel(' ')\n",
    "\n",
    "# Populating plot2:\n",
    "sns.distplot(boombikes['cnt'], ax= ax[1], color= 'purple')\n",
    "ax[1].set_title('distribution plot of target variable (cnt)'.upper(), \n",
    "                fontsize= 12, fontweight= 20, y= 1.02)\n",
    "ax[1].set_ylabel(' ')\n",
    "ax[1].set_xlabel(' ')\n",
    "\n",
    "# Setting aesthetics\n",
    "plt.tight_layout()\n",
    "plt.show()\n"
   ]
  },
  {
   "cell_type": "markdown",
   "metadata": {},
   "source": [
    "<b>Observations:</b>\n",
    "- Target variable shows an almost normal distribution of values with 2 distinct plateaus on either side.\n",
    "- Q1 of target variable lies at around 3000 and Q3 at around 6000. IQR thus is approximately 3000 with median at around 4500 value\n"
   ]
  },
  {
   "cell_type": "markdown",
   "metadata": {},
   "source": [
    "### Section 3.1.2: Continuous Independent Variables"
   ]
  },
  {
   "cell_type": "code",
   "execution_count": 14,
   "metadata": {},
   "outputs": [],
   "source": [
    "\n",
    "# Creating a list of continuous independent variables for analysis\n",
    "cont_var= [i for i in boombikes.select_dtypes(exclude= 'object').columns if boombikes[i].nunique() > 2 and i != 'cnt']\n"
   ]
  },
  {
   "cell_type": "code",
   "execution_count": 15,
   "metadata": {},
   "outputs": [
    {
     "data": {
      "image/png": "[encoded data removed]",
      "text/plain": [
       "<Figure size 864x360 with 6 Axes>"
      ]
     },
     "metadata": {
      "needs_background": "light"
     },
     "output_type": "display_data"
    }
   ],
   "source": [
    "# Creating a subplot grid\n",
    "fig, ax= plt.subplots(nrows= 1, ncols= len(cont_var), figsize= (12, 5))\n",
    "\n",
    "# Placing main title\n",
    "plt.suptitle('boxplots showing basic weather trends'.upper(), fontsize= 20)\n",
    "\n",
    "# Looping to fill subplot grid with plots\n",
    "for i in range(len(cont_var)):\n",
    "    \n",
    "    sns.boxplot(y=boombikes[cont_var[i]], ax= ax[i], palette= 'Purples')\n",
    "    \n",
    "    # Setting aesthetics and readability\n",
    "    ax[i].set_title(f'{cont_var[i].upper()}', fontsize= 15)\n",
    "    ax[i].set_ylabel(' ')\n",
    "\n",
    "# Setting final aesthetics\n",
    "plt.tight_layout()\n",
    "plt.show()\n"
   ]
  },
  {
   "cell_type": "markdown",
   "metadata": {},
   "source": [
    "<b>Observations:</b>\n",
    "- Q1 and Q3 of temp is distributed between 14 and 27 with median as 21\n",
    "- Q1 and Q3 of atemp is distributed between 17 and 31 with median as 24\n",
    "- Humidity and windspeed have shown presence of outliers and casual\n",
    "- Temp and Atemp appear to be almost normally distributed"
   ]
  },
  {
   "cell_type": "code",
   "execution_count": 16,
   "metadata": {},
   "outputs": [
    {
     "data": {
      "image/png": "[encoded data removed]",
      "text/plain": [
       "<Figure size 1440x360 with 6 Axes>"
      ]
     },
     "metadata": {
      "needs_background": "light"
     },
     "output_type": "display_data"
    }
   ],
   "source": [
    "\n",
    "# Creating a subplot grid\n",
    "fig, ax= plt.subplots(nrows= 1, ncols= len(cont_var), figsize= (20, 5))\n",
    "\n",
    "# Placing main title\n",
    "plt.suptitle('distplots showing weather trends'.upper(), fontsize= 20)\n",
    "\n",
    "# Looping to fill subplot grid with plots\n",
    "for i in range(len(cont_var)):\n",
    "    \n",
    "    sns.distplot(boombikes[cont_var[i]], ax= ax[i], color= 'purple')\n",
    "    \n",
    "    # Setting aesthetics and readability\n",
    "    ax[i].set_title(f'{cont_var[i].upper()}', fontsize= 15)\n",
    "    ax[i].set_ylabel(' ')\n",
    "    ax[i].set_xlabel(' ')\n",
    "\n",
    "# Setting final aesthetics\n",
    "plt.tight_layout()\n",
    "plt.show()\n"
   ]
  },
  {
   "cell_type": "markdown",
   "metadata": {},
   "source": [
    "<b>Observations:</b>\n",
    "- Above distplot prove our earlier intuitive understanding of variables as incorrect - Temp and atemp have shown double peaks.\n",
    "- Humidity and Windspeed are left and right skewed respectively.\n",
    "- Casual shows high right skew.\n",
    "- Registered shows similar trend as target variable but plateaus on either side are relatively smoother."
   ]
  },
  {
   "cell_type": "markdown",
   "metadata": {},
   "source": [
    "### Section 3.1.3: Categorical Independent Variables"
   ]
  },
  {
   "cell_type": "code",
   "execution_count": 17,
   "metadata": {},
   "outputs": [],
   "source": [
    "\n",
    "# Creating a list of categorical independent variables for analysis\n",
    "cat_var= [i for i in boombikes.select_dtypes(include= 'object').columns]\n",
    "cat_var.extend([i for i in boombikes.columns if boombikes[i].nunique() == 2])\n"
   ]
  },
  {
   "cell_type": "code",
   "execution_count": 18,
   "metadata": {},
   "outputs": [
    {
     "data": {
      "image/png": "[encoded data removed]",
      "text/plain": [
       "<Figure size 1440x648 with 6 Axes>"
      ]
     },
     "metadata": {
      "needs_background": "light"
     },
     "output_type": "display_data"
    }
   ],
   "source": [
    "\n",
    "# Creating a subplot grid\n",
    "fig, ax= plt.subplots(nrows= 2, ncols= int(len(cont_var)/2), figsize= (20, 9))\n",
    "\n",
    "# Placing main title\n",
    "plt.suptitle('countplots showing trends in categorical independent variables'.upper(), fontsize= 20, fontweight= 20, y= 0.99)\n",
    "\n",
    "# Looping to fill subplot grid with plots\n",
    "k= 0\n",
    "for i in range(2):\n",
    "    for j in range(int(len(cat_var)/2)):\n",
    "        sns.countplot(boombikes[cat_var[k]], ax= ax[i, j], palette= 'Purples')\n",
    "    \n",
    "        # Setting aesthetics and readability\n",
    "        ax[i,j].set_title(f'{cat_var[k].upper()}', fontsize= 15)\n",
    "        ax[i,j].set_ylabel(' ')\n",
    "        ax[i,j].set_xlabel(' ')\n",
    "    \n",
    "        k+=1\n",
    "\n",
    "# Setting final aesthetics\n",
    "plt.tight_layout()\n",
    "plt.show()\n"
   ]
  },
  {
   "cell_type": "markdown",
   "metadata": {},
   "source": [
    "<b>Observations:</b>\n",
    "- Fall is found to be the longest season, followed by summer, followed by Spring. Shortest season is winter.\n",
    "- Weathersit shows just 3 types of weathers. There is not even a single day on which Heavy rain/ snow has occured. Weather has been clear OR partly cloudy for most of the days in both years.\n",
    "- The peculier combination of Season and Weathersit also shows the location of the city in dataset is in tropical region with limited rainfall and is akin to the weather of one of the west coastal cities of US somewhere in California (Ex: Los Angeles/ San Francisco etc). This statement is further supported by the observed data of humidity, temp and atemp. "
   ]
  },
  {
   "cell_type": "markdown",
   "metadata": {},
   "source": [
    "## Section 3.2: Bivariate Analysis"
   ]
  },
  {
   "cell_type": "markdown",
   "metadata": {},
   "source": [
    "### Section 3.2.1: Continuous Independent Variables"
   ]
  },
  {
   "cell_type": "code",
   "execution_count": 19,
   "metadata": {},
   "outputs": [
    {
     "data": {
      "image/png": "[encoded data removed]",
      "text/plain": [
       "<Figure size 1440x648 with 6 Axes>"
      ]
     },
     "metadata": {
      "needs_background": "light"
     },
     "output_type": "display_data"
    }
   ],
   "source": [
    "\n",
    "# Creating a subplot grid\n",
    "fig, ax= plt.subplots(nrows= 2, ncols= int(len(cont_var)/2), figsize= (20, 9), sharey= True)\n",
    "\n",
    "# Placing main title\n",
    "plt.suptitle('relationship of continuous variables with target variable'.upper(), fontsize= 20, fontweight= 20, y= 0.99)\n",
    "\n",
    "# Looping to fill subplot grid with plots\n",
    "k= 0\n",
    "for i in range(2):\n",
    "    for j in range(int(len(cont_var)/2)):\n",
    "        sns.regplot(x= boombikes[cont_var[k]], y=boombikes['cnt'], ax= ax[i, j],\n",
    "                    scatter_kws= {'color': 'yellow'}, line_kws= {'color': 'purple'})\n",
    "    \n",
    "        # Setting aesthetics and readability\n",
    "        ax[i,j].set_title(f'{cont_var[k].upper()}', fontsize= 15)\n",
    "        ax[i,j].set_ylabel(' ')\n",
    "        ax[i,j].set_xlabel(' ')\n",
    "    \n",
    "        k+=1\n",
    "\n",
    "# Setting final aesthetics\n",
    "plt.tight_layout()\n",
    "plt.show()\n"
   ]
  },
  {
   "cell_type": "markdown",
   "metadata": {},
   "source": [
    "<b>Observations:</b>\n",
    "- Bike demand shows a similar and directly proportional relationship with temp and atemp\n",
    "- Bike demand shows inverse proportionality with Humidity and Windspeed.\n",
    "- Bike demand is directly proportional to Casual and Registered numbers.\n",
    "- Bike demand is very well explained by the registered users."
   ]
  },
  {
   "cell_type": "markdown",
   "metadata": {},
   "source": [
    "### Section 3.2.2: Categorical Independent Variables"
   ]
  },
  {
   "cell_type": "code",
   "execution_count": 20,
   "metadata": {},
   "outputs": [
    {
     "data": {
      "image/png": "[encoded data removed]",
      "text/plain": [
       "<Figure size 1440x864 with 6 Axes>"
      ]
     },
     "metadata": {
      "needs_background": "light"
     },
     "output_type": "display_data"
    }
   ],
   "source": [
    "\n",
    "# Creating a subplot grid\n",
    "fig, ax= plt.subplots(nrows= 2, ncols= int(len(cat_var)/2), figsize= (20, 12))\n",
    "\n",
    "# Placing main title\n",
    "plt.suptitle('relationship of categorical variables with target variable'.upper(), fontsize= 20, fontweight= 15, y= 0.99)\n",
    "\n",
    "# Looping to fill subplot grid with plots\n",
    "k= 0\n",
    "for i in range(2):\n",
    "    for j in range(int(len(cat_var)/2)):\n",
    "        sns.barplot(y= boombikes.groupby(by= cat_var[k]).mean()['cnt'], \n",
    "                    x= boombikes.groupby(by= cat_var[k]).mean().index, ax= ax[i,j], palette= 'Purples')\n",
    "    \n",
    "        # Setting aesthetics and readability\n",
    "        ax[i,j].set_title(f'{cat_var[k].upper()}', fontsize= 15)\n",
    "        ax[i,j].set_ylabel(' ')\n",
    "        ax[i,j].set_xlabel(' ')\n",
    "    \n",
    "        k+=1\n",
    "\n",
    "# Setting final aesthetics\n",
    "plt.tight_layout()\n",
    "plt.show()\n"
   ]
  },
  {
   "cell_type": "markdown",
   "metadata": {},
   "source": [
    "<b>Observations:</b>\n",
    "- Maximum demand noticed in Fall Season followed by Summer and Winter. Spring season shows a steep decrease in demand.\n",
    "- Months of Aug, Jun and Sep display highest demand trend followed by the months of Jul, May and Oct. `This effectively defines a six month period from May till October that can be classified as high demand period. Months seem to show a drastic imapct on business.`\n",
    "- Highest demand traction observed on Friday, Saturday, Sunday and Thursday. `This effectively shows that the usage of bikes have been for mixed use (For office as well as leisure travel)`\n",
    "- Demand is exceptionally high on clear days\n",
    "- Company has shown significant business increase from 2018 to 2019\n",
    "- Usage of cycle on holidays is slightly lower then weekdays\n",
    "- Usage is almost similar irrespective of being a working day or not."
   ]
  },
  {
   "cell_type": "markdown",
   "metadata": {},
   "source": [
    "<b>DEmand comaprison on Working Day and Non Working Day</b>"
   ]
  },
  {
   "cell_type": "code",
   "execution_count": 21,
   "metadata": {},
   "outputs": [
    {
     "data": {
      "image/png": "[encoded data removed]",
      "text/plain": [
       "<Figure size 576x216 with 1 Axes>"
      ]
     },
     "metadata": {
      "needs_background": "light"
     },
     "output_type": "display_data"
    }
   ],
   "source": [
    "plt.figure(figsize= (8, 3))\n",
    "plt.title('plot showing relative comparison of demand on workingday(y/n)'.upper(), fontsize= 10)\n",
    "boombikes.groupby(by= 'workingday').mean()['cnt'].plot.bar(color= 'purple')\n",
    "plt.ylabel('average demand'.title(), fontsize= 8)\n",
    "plt.xlabel('working day'.title(), fontsize= 8)\n",
    "plt.ylim(min(boombikes.groupby(by= 'workingday').mean()['cnt'])-200, \n",
    "         max(boombikes.groupby(by= 'workingday').mean()['cnt'])+200)\n",
    "plt.show()"
   ]
  },
  {
   "cell_type": "markdown",
   "metadata": {},
   "source": [
    "<b>Observations:</b>\n",
    "- Usage is found to be higher on non-working days.\n",
    "- Since the demand-fall on weekdays is limited to close to 3%, the demand gap is minimal.\n",
    "- Recall our previous visualization that highlights the reason for this - More number of sluggish demand days during weekdays are pulling this average down whereas robust demand on all days of weekends pull the average demand higher."
   ]
  },
  {
   "cell_type": "markdown",
   "metadata": {},
   "source": [
    "### Section 3.2.3: Seasonwise variation in weather related continuous variables"
   ]
  },
  {
   "cell_type": "code",
   "execution_count": 22,
   "metadata": {},
   "outputs": [],
   "source": [
    "\n",
    "# Initializing feature list for weather related continuous variables:\n",
    "weather_var= ['temp', 'atemp', 'hum', 'windspeed']\n"
   ]
  },
  {
   "cell_type": "code",
   "execution_count": 23,
   "metadata": {},
   "outputs": [
    {
     "data": {
      "image/png": "[encoded data removed]",
      "text/plain": [
       "<Figure size 1440x360 with 4 Axes>"
      ]
     },
     "metadata": {
      "needs_background": "light"
     },
     "output_type": "display_data"
    }
   ],
   "source": [
    "\n",
    "# Creating a subplot grid\n",
    "fig, ax= plt.subplots(nrows= 1, ncols= len(weather_var), figsize= (20, 5))\n",
    "\n",
    "# Placing main title\n",
    "plt.suptitle('analysing seasonal variation in weather related continuous varibales'.upper(), fontsize= 20, fontweight= 15, y= 0.99)\n",
    "\n",
    "# Looping to fill subplot grid with plots\n",
    "for i in range(len(weather_var)):\n",
    "    sns.barplot(y= boombikes.groupby(by= 'season').mean()[weather_var[i]],\n",
    "               x= boombikes.groupby(by= 'season').mean().index, ax= ax[i], palette= 'Purples')\n",
    "\n",
    "    \n",
    "    # Setting aesthetics and readability\n",
    "    ax[i].set_title(f'{weather_var[i].upper()}', fontsize= 15)\n",
    "    ax[i].set_ylabel(' ')\n",
    "    ax[i].set_xlabel(' ')\n",
    "\n",
    "# Setting final aesthetics\n",
    "plt.tight_layout()\n",
    "plt.show()\n"
   ]
  },
  {
   "cell_type": "markdown",
   "metadata": {},
   "source": [
    "<b>Observations:</b>\n",
    "- Weather variables have shown an unusual pattern wherein the average temperature and average temperature feeling is found to be highest in fall season followed by summer season.\n",
    "- Instead of winter, spring shows relatively lower average temperature and average temperature feeling.\n",
    "- Humidity is found to be highest in winter season followed by fall, summer and spring.\n",
    "- Windspeed is found to be highest in spring, followed by summer."
   ]
  },
  {
   "cell_type": "markdown",
   "metadata": {},
   "source": [
    "<b>Below is a reference table that shows seasonwise and monthwise variation of continuous weather features</b>"
   ]
  },
  {
   "cell_type": "code",
   "execution_count": 24,
   "metadata": {},
   "outputs": [
    {
     "data": {
      "text/html": [
       "<div>\n",
       "<style scoped>\n",
       "    .dataframe tbody tr th:only-of-type {\n",
       "        vertical-align: middle;\n",
       "    }\n",
       "\n",
       "    .dataframe tbody tr th {\n",
       "        vertical-align: top;\n",
       "    }\n",
       "\n",
       "    .dataframe thead th {\n",
       "        text-align: right;\n",
       "    }\n",
       "</style>\n",
       "<table border=\"1\" class=\"dataframe\">\n",
       "  <thead>\n",
       "    <tr style=\"text-align: right;\">\n",
       "      <th></th>\n",
       "      <th></th>\n",
       "      <th>yr</th>\n",
       "      <th>holiday</th>\n",
       "      <th>workingday</th>\n",
       "      <th>temp</th>\n",
       "      <th>atemp</th>\n",
       "      <th>hum</th>\n",
       "      <th>windspeed</th>\n",
       "      <th>casual</th>\n",
       "      <th>registered</th>\n",
       "      <th>cnt</th>\n",
       "    </tr>\n",
       "    <tr>\n",
       "      <th>season</th>\n",
       "      <th>mnth</th>\n",
       "      <th></th>\n",
       "      <th></th>\n",
       "      <th></th>\n",
       "      <th></th>\n",
       "      <th></th>\n",
       "      <th></th>\n",
       "      <th></th>\n",
       "      <th></th>\n",
       "      <th></th>\n",
       "      <th></th>\n",
       "    </tr>\n",
       "  </thead>\n",
       "  <tbody>\n",
       "    <tr>\n",
       "      <th rowspan=\"4\" valign=\"top\">Fall</th>\n",
       "      <th>Aug</th>\n",
       "      <td>0.50000</td>\n",
       "      <td>0.00000</td>\n",
       "      <td>0.72581</td>\n",
       "      <td>29.05184</td>\n",
       "      <td>32.57374</td>\n",
       "      <td>63.77301</td>\n",
       "      <td>11.58552</td>\n",
       "      <td>1161.91935</td>\n",
       "      <td>4502.50000</td>\n",
       "      <td>5664.41935</td>\n",
       "    </tr>\n",
       "    <tr>\n",
       "      <th>Jul</th>\n",
       "      <td>0.50000</td>\n",
       "      <td>0.03226</td>\n",
       "      <td>0.69355</td>\n",
       "      <td>30.97429</td>\n",
       "      <td>35.20469</td>\n",
       "      <td>59.78763</td>\n",
       "      <td>11.12594</td>\n",
       "      <td>1260.59677</td>\n",
       "      <td>4303.08065</td>\n",
       "      <td>5563.67742</td>\n",
       "    </tr>\n",
       "    <tr>\n",
       "      <th>Jun</th>\n",
       "      <td>0.50000</td>\n",
       "      <td>0.00000</td>\n",
       "      <td>0.65000</td>\n",
       "      <td>29.81554</td>\n",
       "      <td>33.56743</td>\n",
       "      <td>54.40625</td>\n",
       "      <td>12.90432</td>\n",
       "      <td>1188.05000</td>\n",
       "      <td>4581.35000</td>\n",
       "      <td>5769.40000</td>\n",
       "    </tr>\n",
       "    <tr>\n",
       "      <th>Sep</th>\n",
       "      <td>0.50000</td>\n",
       "      <td>0.04545</td>\n",
       "      <td>0.63636</td>\n",
       "      <td>25.59775</td>\n",
       "      <td>29.35985</td>\n",
       "      <td>71.83132</td>\n",
       "      <td>11.39800</td>\n",
       "      <td>1184.86364</td>\n",
       "      <td>4487.84091</td>\n",
       "      <td>5672.70455</td>\n",
       "    </tr>\n",
       "    <tr>\n",
       "      <th rowspan=\"4\" valign=\"top\">Spring</th>\n",
       "      <th>Dec</th>\n",
       "      <td>0.50000</td>\n",
       "      <td>0.09091</td>\n",
       "      <td>0.54545</td>\n",
       "      <td>12.21599</td>\n",
       "      <td>14.72987</td>\n",
       "      <td>63.84248</td>\n",
       "      <td>14.30449</td>\n",
       "      <td>293.77273</td>\n",
       "      <td>1660.68182</td>\n",
       "      <td>1954.45455</td>\n",
       "    </tr>\n",
       "    <tr>\n",
       "      <th>Feb</th>\n",
       "      <td>0.50000</td>\n",
       "      <td>0.03571</td>\n",
       "      <td>0.67857</td>\n",
       "      <td>12.23525</td>\n",
       "      <td>14.94305</td>\n",
       "      <td>56.32269</td>\n",
       "      <td>14.49457</td>\n",
       "      <td>266.03571</td>\n",
       "      <td>2403.92857</td>\n",
       "      <td>2669.96429</td>\n",
       "    </tr>\n",
       "    <tr>\n",
       "      <th>Jan</th>\n",
       "      <td>0.50000</td>\n",
       "      <td>0.04839</td>\n",
       "      <td>0.69355</td>\n",
       "      <td>9.69420</td>\n",
       "      <td>11.98979</td>\n",
       "      <td>58.58283</td>\n",
       "      <td>13.82229</td>\n",
       "      <td>194.22581</td>\n",
       "      <td>1982.11290</td>\n",
       "      <td>2176.33871</td>\n",
       "    </tr>\n",
       "    <tr>\n",
       "      <th>Mar</th>\n",
       "      <td>0.50000</td>\n",
       "      <td>0.00000</td>\n",
       "      <td>0.70000</td>\n",
       "      <td>16.01250</td>\n",
       "      <td>19.13531</td>\n",
       "      <td>56.98311</td>\n",
       "      <td>15.15784</td>\n",
       "      <td>678.85000</td>\n",
       "      <td>2872.77500</td>\n",
       "      <td>3551.62500</td>\n",
       "    </tr>\n",
       "    <tr>\n",
       "      <th rowspan=\"4\" valign=\"top\">Summer</th>\n",
       "      <th>Apr</th>\n",
       "      <td>0.50000</td>\n",
       "      <td>0.03333</td>\n",
       "      <td>0.70000</td>\n",
       "      <td>19.26995</td>\n",
       "      <td>22.85404</td>\n",
       "      <td>58.80631</td>\n",
       "      <td>15.71031</td>\n",
       "      <td>1013.36667</td>\n",
       "      <td>3471.53333</td>\n",
       "      <td>4484.90000</td>\n",
       "    </tr>\n",
       "    <tr>\n",
       "      <th>Jun</th>\n",
       "      <td>0.50000</td>\n",
       "      <td>0.00000</td>\n",
       "      <td>0.70000</td>\n",
       "      <td>27.16421</td>\n",
       "      <td>31.08471</td>\n",
       "      <td>59.16770</td>\n",
       "      <td>12.18254</td>\n",
       "      <td>1253.62500</td>\n",
       "      <td>4520.22500</td>\n",
       "      <td>5773.85000</td>\n",
       "    </tr>\n",
       "    <tr>\n",
       "      <th>Mar</th>\n",
       "      <td>0.50000</td>\n",
       "      <td>0.00000</td>\n",
       "      <td>0.68182</td>\n",
       "      <td>16.01134</td>\n",
       "      <td>19.02927</td>\n",
       "      <td>62.23732</td>\n",
       "      <td>14.48999</td>\n",
       "      <td>785.90909</td>\n",
       "      <td>3162.04545</td>\n",
       "      <td>3947.95455</td>\n",
       "    </tr>\n",
       "    <tr>\n",
       "      <th>May</th>\n",
       "      <td>0.50000</td>\n",
       "      <td>0.03226</td>\n",
       "      <td>0.70968</td>\n",
       "      <td>24.38674</td>\n",
       "      <td>28.28310</td>\n",
       "      <td>68.89583</td>\n",
       "      <td>12.26026</td>\n",
       "      <td>1214.27419</td>\n",
       "      <td>4135.50000</td>\n",
       "      <td>5349.77419</td>\n",
       "    </tr>\n",
       "    <tr>\n",
       "      <th rowspan=\"4\" valign=\"top\">Winter</th>\n",
       "      <th>Dec</th>\n",
       "      <td>0.50000</td>\n",
       "      <td>0.00000</td>\n",
       "      <td>0.72500</td>\n",
       "      <td>13.87337</td>\n",
       "      <td>17.17595</td>\n",
       "      <td>68.12292</td>\n",
       "      <td>10.47337</td>\n",
       "      <td>380.75000</td>\n",
       "      <td>3820.20000</td>\n",
       "      <td>4200.95000</td>\n",
       "    </tr>\n",
       "    <tr>\n",
       "      <th>Nov</th>\n",
       "      <td>0.50000</td>\n",
       "      <td>0.06667</td>\n",
       "      <td>0.68333</td>\n",
       "      <td>15.13801</td>\n",
       "      <td>18.36794</td>\n",
       "      <td>62.48765</td>\n",
       "      <td>12.31470</td>\n",
       "      <td>610.05000</td>\n",
       "      <td>3637.13333</td>\n",
       "      <td>4247.18333</td>\n",
       "    </tr>\n",
       "    <tr>\n",
       "      <th>Oct</th>\n",
       "      <td>0.50000</td>\n",
       "      <td>0.03226</td>\n",
       "      <td>0.70968</td>\n",
       "      <td>19.88550</td>\n",
       "      <td>23.59866</td>\n",
       "      <td>69.37609</td>\n",
       "      <td>11.73877</td>\n",
       "      <td>963.87097</td>\n",
       "      <td>4235.35484</td>\n",
       "      <td>5199.22581</td>\n",
       "    </tr>\n",
       "    <tr>\n",
       "      <th>Sep</th>\n",
       "      <td>0.50000</td>\n",
       "      <td>0.00000</td>\n",
       "      <td>0.68750</td>\n",
       "      <td>24.39074</td>\n",
       "      <td>27.87898</td>\n",
       "      <td>70.48177</td>\n",
       "      <td>10.34921</td>\n",
       "      <td>1136.81250</td>\n",
       "      <td>4887.68750</td>\n",
       "      <td>6024.50000</td>\n",
       "    </tr>\n",
       "  </tbody>\n",
       "</table>\n",
       "</div>"
      ],
      "text/plain": [
       "                 yr  holiday  workingday     temp    atemp      hum  \\\n",
       "season mnth                                                           \n",
       "Fall   Aug  0.50000  0.00000     0.72581 29.05184 32.57374 63.77301   \n",
       "       Jul  0.50000  0.03226     0.69355 30.97429 35.20469 59.78763   \n",
       "       Jun  0.50000  0.00000     0.65000 29.81554 33.56743 54.40625   \n",
       "       Sep  0.50000  0.04545     0.63636 25.59775 29.35985 71.83132   \n",
       "Spring Dec  0.50000  0.09091     0.54545 12.21599 14.72987 63.84248   \n",
       "       Feb  0.50000  0.03571     0.67857 12.23525 14.94305 56.32269   \n",
       "       Jan  0.50000  0.04839     0.69355  9.69420 11.98979 58.58283   \n",
       "       Mar  0.50000  0.00000     0.70000 16.01250 19.13531 56.98311   \n",
       "Summer Apr  0.50000  0.03333     0.70000 19.26995 22.85404 58.80631   \n",
       "       Jun  0.50000  0.00000     0.70000 27.16421 31.08471 59.16770   \n",
       "       Mar  0.50000  0.00000     0.68182 16.01134 19.02927 62.23732   \n",
       "       May  0.50000  0.03226     0.70968 24.38674 28.28310 68.89583   \n",
       "Winter Dec  0.50000  0.00000     0.72500 13.87337 17.17595 68.12292   \n",
       "       Nov  0.50000  0.06667     0.68333 15.13801 18.36794 62.48765   \n",
       "       Oct  0.50000  0.03226     0.70968 19.88550 23.59866 69.37609   \n",
       "       Sep  0.50000  0.00000     0.68750 24.39074 27.87898 70.48177   \n",
       "\n",
       "             windspeed     casual  registered        cnt  \n",
       "season mnth                                               \n",
       "Fall   Aug    11.58552 1161.91935  4502.50000 5664.41935  \n",
       "       Jul    11.12594 1260.59677  4303.08065 5563.67742  \n",
       "       Jun    12.90432 1188.05000  4581.35000 5769.40000  \n",
       "       Sep    11.39800 1184.86364  4487.84091 5672.70455  \n",
       "Spring Dec    14.30449  293.77273  1660.68182 1954.45455  \n",
       "       Feb    14.49457  266.03571  2403.92857 2669.96429  \n",
       "       Jan    13.82229  194.22581  1982.11290 2176.33871  \n",
       "       Mar    15.15784  678.85000  2872.77500 3551.62500  \n",
       "Summer Apr    15.71031 1013.36667  3471.53333 4484.90000  \n",
       "       Jun    12.18254 1253.62500  4520.22500 5773.85000  \n",
       "       Mar    14.48999  785.90909  3162.04545 3947.95455  \n",
       "       May    12.26026 1214.27419  4135.50000 5349.77419  \n",
       "Winter Dec    10.47337  380.75000  3820.20000 4200.95000  \n",
       "       Nov    12.31470  610.05000  3637.13333 4247.18333  \n",
       "       Oct    11.73877  963.87097  4235.35484 5199.22581  \n",
       "       Sep    10.34921 1136.81250  4887.68750 6024.50000  "
      ]
     },
     "execution_count": 24,
     "metadata": {},
     "output_type": "execute_result"
    }
   ],
   "source": [
    "boombikes.groupby(by= ['season', 'mnth']).mean()"
   ]
  },
  {
   "cell_type": "markdown",
   "metadata": {},
   "source": [
    "### Section 3.2.4: Weathersitwise variation in weather related continuous variables"
   ]
  },
  {
   "cell_type": "code",
   "execution_count": 25,
   "metadata": {},
   "outputs": [
    {
     "data": {
      "image/png": "[encoded data removed]",
      "text/plain": [
       "<Figure size 1440x360 with 4 Axes>"
      ]
     },
     "metadata": {
      "needs_background": "light"
     },
     "output_type": "display_data"
    }
   ],
   "source": [
    "\n",
    "# Creating a subplot grid\n",
    "fig, ax= plt.subplots(nrows= 1, ncols= len(weather_var), figsize= (20, 5))\n",
    "\n",
    "# Placing main title\n",
    "plt.suptitle('analysing seasonal variation in weather related continuous varibales'.upper(), fontsize= 20, fontweight= 15, y= 0.99)\n",
    "\n",
    "# Looping to fill subplot grid with plots\n",
    "for i in range(len(weather_var)):\n",
    "    sns.barplot(y= boombikes.groupby(by= 'weathersit').mean()[weather_var[i]],\n",
    "               x= boombikes.groupby(by= 'weathersit').mean().index, ax= ax[i], palette= 'Purples')\n",
    "\n",
    "    \n",
    "    # Setting aesthetics and readability\n",
    "    ax[i].set_title(f'{weather_var[i].upper()}', fontsize= 15)\n",
    "    ax[i].set_ylabel(' ')\n",
    "    ax[i].set_xlabel(' ')\n",
    "\n",
    "# Setting final aesthetics\n",
    "plt.tight_layout()\n",
    "plt.show()\n"
   ]
  },
  {
   "cell_type": "markdown",
   "metadata": {},
   "source": [
    "<b>Observations:</b>\n",
    "- Temp and Atemp show highest mean values when the skies are clear to partly cloudy followed by misty weather followed by Light rains.\n",
    "- Humidity is found to have highest mean values during light rains followed by misty weather followed by clear skies.\n",
    "- Windspeed has highest mean values during light rains.\n"
   ]
  },
  {
   "cell_type": "markdown",
   "metadata": {},
   "source": [
    "### Section 3.2.5: Monthwise variation in weathersit"
   ]
  },
  {
   "cell_type": "code",
   "execution_count": 26,
   "metadata": {},
   "outputs": [
    {
     "data": {
      "image/png": "[encoded data removed]",
      "text/plain": [
       "<Figure size 1440x504 with 1 Axes>"
      ]
     },
     "metadata": {
      "needs_background": "light"
     },
     "output_type": "display_data"
    }
   ],
   "source": [
    "# Defining Figure size\n",
    "plt.figure(figsize= (20, 7))\n",
    "\n",
    "# Plotting\n",
    "sns.countplot('weathersit', data= boombikes, hue= 'mnth', palette= 'Wistia')\n",
    "\n",
    "# Adjusting labels and title\n",
    "plt.title('chart showing the monthly frequency of various weathersit'.upper(), fontsize= 20)\n",
    "plt.xlabel('weather type'.title())\n",
    "\n",
    "plt.show()"
   ]
  },
  {
   "cell_type": "markdown",
   "metadata": {},
   "source": [
    "<b>Observations:</b>\n",
    "- Overall, maximum number of days have been 'Clear to Partly Cloudy' followed by 'Misty and Cloudy'.\n",
    "- July has shown the maximum occurance of clear to aprtly cloudy days followed by Jun and then Aug.\n",
    "- Maximum number of musty occurances have been observed in the month of December followed by Jan, Mar, May and Oct."
   ]
  },
  {
   "cell_type": "markdown",
   "metadata": {},
   "source": [
    "## Section 3.3: Intervariable Relationships"
   ]
  },
  {
   "cell_type": "markdown",
   "metadata": {},
   "source": [
    "### Section 3.3.1: Intervariable relationships using pairplot"
   ]
  },
  {
   "cell_type": "code",
   "execution_count": null,
   "metadata": {},
   "outputs": [],
   "source": [
    "\n",
    "sns.pairplot(boombikes, kind= 'reg', markers= '+', palette= 'Purples')\n",
    "plt.show()\n"
   ]
  },
  {
   "cell_type": "markdown",
   "metadata": {},
   "source": [
    "<b>Observations: </b>\n",
    "- Target Variable:\n",
    "    - Direct proportionality with temp, atemp, casual and registered\n",
    "    - Inverse proportionality with humidity and windspeed\n",
    "\n",
    "\n",
    "- Independent Variables:\n",
    "    - registered is directly proportional to temp, atemp, casual and inversely proportional with hum and windspeed\n",
    "    - casual is directly proportional to temp, atemp, casual, registered and inversely proportional with hum and windspeed\n",
    "    - windspeed is inversely proportional to temp, atemp and hum.\n",
    "    - humidity is directly proportional to temp and atemp and inversely proportional to windspeed\n"
   ]
  },
  {
   "cell_type": "markdown",
   "metadata": {},
   "source": [
    "<b>Note:</b>\n",
    "- Our target 'cnt' is a summation of 'casual' and 'registered'\n",
    "- Based on above logic, features 'casual' and 'registered' can completely explain the target variable\n",
    "- <b>Hence, dropping casual and registered features</b>"
   ]
  },
  {
   "cell_type": "code",
   "execution_count": null,
   "metadata": {},
   "outputs": [],
   "source": [
    "boombikes.drop(labels= ['casual','registered'], axis= 1, inplace= True)"
   ]
  },
  {
   "cell_type": "code",
   "execution_count": null,
   "metadata": {},
   "outputs": [],
   "source": [
    "\n",
    "# Re-inspecting dataframe\n",
    "boombikes.head(2)\n"
   ]
  },
  {
   "cell_type": "markdown",
   "metadata": {},
   "source": [
    "### Section 3.3.2: Intervariable relationships using heatmap"
   ]
  },
  {
   "cell_type": "code",
   "execution_count": null,
   "metadata": {},
   "outputs": [],
   "source": [
    "# Setting plot size\n",
    "plt.figure(figsize=(10,5))\n",
    "\n",
    "# Plotting Heatmap\n",
    "sns.heatmap(boombikes.corr(), annot= True, cmap= 'Purples_r')\n",
    "\n",
    "# Setting title\n",
    "plt.title('heatmap depicting intervariable dependency'.upper(), fontsize= 18, y= 1)\n",
    "\n",
    "plt.show()"
   ]
  },
  {
   "cell_type": "markdown",
   "metadata": {},
   "source": [
    "<b>Observations:</b>\n",
    "- Above heatmaps reconfirms our previous observations made from pairplot\n",
    "- Extremely high correlation between atemp and temp observed. "
   ]
  },
  {
   "cell_type": "markdown",
   "metadata": {},
   "source": [
    "## Section 3.4: Analysis of Growth Over Last Year (GOLY) of 2019"
   ]
  },
  {
   "cell_type": "code",
   "execution_count": null,
   "metadata": {
    "scrolled": false
   },
   "outputs": [],
   "source": [
    "\n",
    "# Creating fresh dataframe showing monthly demand growth over last year \n",
    "growth_pd= boombikes.pivot_table(index= 'mnth', columns= 'yr', values= 'cnt', aggfunc= 'mean')\n",
    "\n",
    "# Amending column names\n",
    "growth_pd.columns= ['2018', '2019']\n",
    "\n",
    "# % growth column\n",
    "growth_pd['percent growth']= round(((growth_pd['2019'] - growth_pd['2018'])/growth_pd['2018'])*100, 2)\n",
    "\n",
    "# Sorting dataframe\n",
    "growth_pd= growth_pd.sort_values(by= 'percent growth', ascending= False)\n",
    "\n",
    "# Observing the final results\n",
    "growth_pd\n"
   ]
  },
  {
   "cell_type": "code",
   "execution_count": null,
   "metadata": {
    "scrolled": false
   },
   "outputs": [],
   "source": [
    "# Setting subplot grid\n",
    "fig, ax= plt.subplots(nrows= 1, ncols= 2, figsize= (13, 5))\n",
    "\n",
    "# Setting main title\n",
    "plt.suptitle('plots featuring monthly Growth over last year'.upper(), fontsize= 20, y= 1.01)\n",
    "\n",
    "# Populating plot 1\n",
    "sns.barplot(x= 'mnth', y= 'cnt', data= boombikes, hue= 'yr', ax= ax[0], palette= 'Purples', )\n",
    "ax[0].set_ylabel(' ')\n",
    "ax[0].set_xlabel(' ')\n",
    "ax[0].set_title('monthly growth over last year'.upper(), fontsize= 13)\n",
    "\n",
    "# Populating plot 2\n",
    "sns.lineplot(x= growth_pd.index, y= growth_pd['percent growth'], ax= ax[1], palette= 'Purples')\n",
    "ax[1].set_ylabel(' ')\n",
    "ax[1].set_xlabel(' ')\n",
    "ax[1].set_title('monthly growth percent trend over last year'.upper(), fontsize= 13)\n",
    "\n",
    "# Setting final aesthetics\n",
    "plt.tight_layout()\n",
    "plt.show()\n"
   ]
  },
  {
   "cell_type": "markdown",
   "metadata": {},
   "source": [
    "<b>Observations:</b>\n",
    "- Tremendous business growth shown in 2019 over 2018.\n",
    "- 100+% growth observed in the months of Jan, Feb and March"
   ]
  },
  {
   "cell_type": "markdown",
   "metadata": {},
   "source": [
    "# Section 4: Logic Note for further model development approach"
   ]
  },
  {
   "cell_type": "markdown",
   "metadata": {},
   "source": [
    "<b>Machine Learning Problem </b>\n",
    "- Relationship of target variable found with temp, atemp, humidity and windspeed in pairplots.\n",
    "- Target variable found to be correlated with date, work_stat, season, month as depicted in earlier barplots.\n",
    "- `Based on above, it is proven that this qualifies as a Machine Learning problem since the outcome depends on independent features and historical records`\n",
    "\n",
    "<b>Supervised/ Unsupervised</b>\n",
    "- We have target variable available with us and hence `it is a Supervised Learning problem.`\n",
    "\n",
    "<b>Regression</b>\n",
    "- Given target variable (cnt) is continuous and hence, `this problem qualifies to be a regression problem`\n",
    "\n",
    "<b>Multiple Indpependent Features</b>\n",
    "- From given EDA, we now kow that target variable is dependent on multiple features. Hence, `this problem qualifies to be a Multiple Linear Regression problem.`"
   ]
  },
  {
   "cell_type": "markdown",
   "metadata": {},
   "source": [
    "# Section 5: Using Multiple Linear Regression for Model Development"
   ]
  },
  {
   "cell_type": "code",
   "execution_count": null,
   "metadata": {},
   "outputs": [],
   "source": [
    "# Re-Inspection of data\n",
    "\n",
    "boombikes.head()\n"
   ]
  },
  {
   "cell_type": "markdown",
   "metadata": {},
   "source": [
    "<b>Observations:</b> \n",
    "- yr, holiday, workingday are binary variables"
   ]
  },
  {
   "cell_type": "markdown",
   "metadata": {},
   "source": [
    "## Section 5.1: Creating Dummy Variables"
   ]
  },
  {
   "cell_type": "code",
   "execution_count": null,
   "metadata": {},
   "outputs": [],
   "source": [
    "\n",
    "# Creating new dataframe for ML algorithm (Deep copy of boombikes):\n",
    "boombikes_ml= boombikes.copy()\n"
   ]
  },
  {
   "cell_type": "code",
   "execution_count": null,
   "metadata": {},
   "outputs": [],
   "source": [
    "\n",
    "# Creating a list of features that need to be converted to dummy variable:\n",
    "\n",
    "dummy_list= [i for i in boombikes_ml.select_dtypes(include= 'object').columns]\n",
    "\n",
    "# Creating dummies\n",
    "\n",
    "for i in dummy_list:\n",
    "    my_d= pd.get_dummies(data= boombikes_ml[i], drop_first= True)\n",
    "    boombikes_ml= pd.concat([boombikes_ml, my_d], axis= 1).drop(labels= i, axis= 1)\n",
    "    "
   ]
  },
  {
   "cell_type": "code",
   "execution_count": null,
   "metadata": {},
   "outputs": [],
   "source": [
    "\n",
    "# Re Inspecting Dataframe\n",
    "boombikes_ml.head()\n"
   ]
  },
  {
   "cell_type": "code",
   "execution_count": null,
   "metadata": {},
   "outputs": [],
   "source": [
    "print(f'Our new dataset post dummy creation has {boombikes_ml.shape[0]} rows and {boombikes_ml.shape[1]} columns.')"
   ]
  },
  {
   "cell_type": "markdown",
   "metadata": {},
   "source": [
    "## Section 5.2: Intervariable Interactions"
   ]
  },
  {
   "cell_type": "markdown",
   "metadata": {},
   "source": [
    "### Section 5.2.1: Heatmap"
   ]
  },
  {
   "cell_type": "code",
   "execution_count": null,
   "metadata": {},
   "outputs": [],
   "source": [
    "\n",
    "# Re-plotting heatmap\n",
    "\n",
    "plt.figure(figsize=(20,12))\n",
    "plt.title('heatmap depicting intervariable dependency post dummy variable creation'.upper(), fontsize= 18, y= 1)\n",
    "sns.heatmap(boombikes_ml.corr(), annot= True, cmap= 'Purples_r', fmt= '.2g')\n",
    "plt.show()\n"
   ]
  },
  {
   "cell_type": "markdown",
   "metadata": {},
   "source": [
    "<b>Note:</b>\n",
    "- Heatmap has become very dense due to high number of variables and limitation of display space.\n",
    "- We will depict high level of positive and negative correlation in following dataframe.\n"
   ]
  },
  {
   "cell_type": "markdown",
   "metadata": {},
   "source": [
    "### Section 5.2.2: Dataframe highlighting Intervariable Relationships"
   ]
  },
  {
   "cell_type": "code",
   "execution_count": null,
   "metadata": {},
   "outputs": [],
   "source": [
    "\n",
    "# Initiating variables:\n",
    "\n",
    "col_list= []\n",
    "ind_list= []\n",
    "corr_type= []\n",
    "corr_strength= []\n",
    "corr_list= []\n",
    "\n",
    "# Developing loop\n",
    "\n",
    "for i in range(len(boombikes_ml.corr().columns)):\n",
    "    for j in range(len(boombikes_ml.corr().index)):\n",
    "        \n",
    "        if boombikes_ml.corr().columns[i] != boombikes_ml.corr().index[j] and boombikes_ml.corr().iloc[i,j] != 0:\n",
    "            \n",
    "            if boombikes_ml.corr().iloc[i,j] < 0:\n",
    "                \n",
    "                if boombikes_ml.corr().iloc[i, j] <= -0.7:\n",
    "                    col_list.append(boombikes_ml.corr().columns[i])\n",
    "                    ind_list.append(boombikes_ml.corr().index[j])\n",
    "                    corr_type.append('Negative')\n",
    "                    corr_strength.append('Strong')\n",
    "                    corr_list.append(round(boombikes_ml.corr().iloc[i,j], 2))\n",
    "                \n",
    "                elif boombikes_ml.corr().iloc[i,j] < -0.3:\n",
    "                    col_list.append(boombikes_ml.corr().columns[i])\n",
    "                    ind_list.append(boombikes_ml.corr().index[j])\n",
    "                    corr_type.append('Negative')\n",
    "                    corr_strength.append('Medium')\n",
    "                    corr_list.append(round(boombikes_ml.corr().iloc[i,j], 2))\n",
    "                    \n",
    "                \n",
    "            else:\n",
    "                \n",
    "                if boombikes_ml.corr().iloc[i,j] >= 0.7:\n",
    "                    col_list.append(boombikes_ml.corr().columns[i])\n",
    "                    ind_list.append(boombikes_ml.corr().index[j])\n",
    "                    corr_type.append('Positive')\n",
    "                    corr_strength.append('Strong')\n",
    "                    corr_list.append(round(boombikes_ml.corr().iloc[i,j], 2))\n",
    "                \n",
    "                elif boombikes_ml.corr().iloc[i,j] > 0.3:\n",
    "                    col_list.append(boombikes_ml.corr().columns[i])\n",
    "                    ind_list.append(boombikes_ml.corr().index[j])\n",
    "                    corr_type.append('Positive')\n",
    "                    corr_strength.append('Strong')\n",
    "                    corr_list.append(round(boombikes_ml.corr().iloc[i,j], 2))\n",
    "                    \n",
    "                \n",
    "                "
   ]
  },
  {
   "cell_type": "code",
   "execution_count": null,
   "metadata": {},
   "outputs": [],
   "source": [
    "\n",
    "# New dataframe initialized to show intervariable relationships\n",
    "\n",
    "boombike_corr_df= pd.DataFrame({'Column1': col_list, 'Column2': ind_list, 'Relationship Strength': corr_strength,\n",
    "                                'Relation Type': corr_type, 'Correlation C': corr_list})\n",
    "\n",
    "# Inspecting the dataframe\n",
    "boombike_corr_df\n"
   ]
  },
  {
   "cell_type": "markdown",
   "metadata": {},
   "source": [
    "<b>Observations:</b>\n",
    "- Above table clearly shows the correlation where the variables are correlated.\n",
    "\n",
    "<b>Notes:</b>\n",
    "- The degree and strength of association was taken as:\n",
    "    - If correlation between variable pairs is between 0.3 to 0.7: Medium Positive Correlation\n",
    "    - If correlation between variable pairs is > 0.7: Strong Positive Correlation\n",
    "    - If correlation between variable pairs is between -0.3 to -0.7: Medium Negative Correlation\n",
    "    - If correlation between variable pairs is < -0.7: Strong Negative Correlation\n",
    "        \n",
    "These values were arrived at by referring online reources available on: https://www.statisticssolutions.com/free-resources/directory-of-statistical-analyses/pearsons-correlation-coefficient/?__cf_chl_jschl_tk__=pmd_wj2BA1nh6BD0K5sdLDYWOQhA1XwO_iasaDKWlFjmP3U-1635681397-0-gqNtZGzNAnujcnBszQkR"
   ]
  },
  {
   "cell_type": "code",
   "execution_count": null,
   "metadata": {},
   "outputs": [],
   "source": [
    "\n",
    "# Displaying feature combinations of strong positive correlation\n",
    "boombike_corr_df[(boombike_corr_df['Relationship Strength']== 'Strong') \n",
    "                 & (boombike_corr_df['Relation Type']== 'Positive')].sort_values(by= 'Correlation C', ascending= False)\n"
   ]
  },
  {
   "cell_type": "markdown",
   "metadata": {},
   "source": [
    "<b>Observations:</b>\n",
    "- Total 32 pairs found strong positive correlation.\n",
    "- Since each pair is repeated twice, effectively we have 16 pairs of variables that shpw strong correlation"
   ]
  },
  {
   "cell_type": "code",
   "execution_count": null,
   "metadata": {},
   "outputs": [],
   "source": [
    "\n",
    "# Displaying feature combinations of strong negative correlation\n",
    "boombike_corr_df[(boombike_corr_df['Relationship Strength']== 'Strong') \n",
    "                 & (boombike_corr_df['Relation Type']== 'Negative')].sort_values(by= 'Correlation C')\n"
   ]
  },
  {
   "cell_type": "markdown",
   "metadata": {},
   "source": [
    "<b>Observations:</b>\n",
    "- We dont have any variable pair that shows a Strong negative correlation."
   ]
  },
  {
   "cell_type": "markdown",
   "metadata": {},
   "source": [
    "## Section 5.2: Train Test Split"
   ]
  },
  {
   "cell_type": "markdown",
   "metadata": {},
   "source": [
    "Dividing the data in 2 distinct datasets:\n",
    "- bb_train: This dataset will be used in training the model to learn the coefficients\n",
    "- bb_test: This dataset will largely remain \"unknown\" to our model and will be used in the end to test the the model propriety."
   ]
  },
  {
   "cell_type": "code",
   "execution_count": null,
   "metadata": {},
   "outputs": [],
   "source": [
    "boombikes_ml.head()"
   ]
  },
  {
   "cell_type": "code",
   "execution_count": null,
   "metadata": {},
   "outputs": [],
   "source": [
    "\n",
    "# Initializing bb_train, bb_test:\n",
    "bb_train, bb_test= train_test_split(boombikes_ml, test_size= 0.30, random_state= 100)\n"
   ]
  },
  {
   "cell_type": "code",
   "execution_count": null,
   "metadata": {},
   "outputs": [],
   "source": [
    "\n",
    "print(f'Training set: {bb_train.shape}')\n",
    "print(f'Test set: {bb_test.shape}')\n"
   ]
  },
  {
   "cell_type": "markdown",
   "metadata": {},
   "source": [
    "<b>Observations:</b>\n",
    "\n",
    "- Adding the number of rows of train and test set comes to exactly 730 which matches the row count of our boombikes_ml dataset. Hence rows have been properly divided into test and train.\n",
    "- Number of columns is 27 which matches the columns of our boombikes_ml dataset"
   ]
  },
  {
   "cell_type": "code",
   "execution_count": null,
   "metadata": {},
   "outputs": [],
   "source": [
    "\n",
    "# Visual inspection\n",
    "bb_train.sample(5)\n"
   ]
  },
  {
   "cell_type": "markdown",
   "metadata": {},
   "source": [
    "## Section 5.3: Rescaling of data"
   ]
  },
  {
   "cell_type": "markdown",
   "metadata": {},
   "source": [
    "<b>Researcher had to chose from 2 of rescaling techniques:</b>\n",
    "- Normalization: Also, called Min Max Scaling, it compresses the features in the range between 0 and 1.\n",
    "- Standardization: It moves data on plot in such a way that mean becomes 0 and standard deviation becomes 1.\n",
    "\n",
    "<b>In this case, researcher has decided to use MinMaxScaler because:</b>\n",
    "- As shown in previous secion of EDA, some of the features contained outliers. We have not handled those outliers till now and MinMaxScaler will automatically handle them.\n",
    "- Distribution does not matter in our dataset.\n",
    "- Presence of binary variables which are already in 0 and 1 form. So rest of the data can be scaled accordingly.\n",
    "\n",
    "MinMaxScaler uses Normalization formula of (X-Xmin)/(Xmax-Xmin) which basically translates the maximum data value as 1 and minimum data value as 0. Rest of the datapoints will remain between 1 and 0 based on relative context.\n",
    "\n",
    "<b>Rescaling of data is done post the train_test_split because researcher does not want the scaler &/ or final model to know the test dataset.</b>"
   ]
  },
  {
   "cell_type": "markdown",
   "metadata": {},
   "source": [
    "<b>Applying MinMaxScaler based on above logic on train data</b>"
   ]
  },
  {
   "cell_type": "code",
   "execution_count": null,
   "metadata": {},
   "outputs": [],
   "source": [
    "\n",
    "# Creating a scaler instance\n",
    "scaler= MinMaxScaler()\n"
   ]
  },
  {
   "cell_type": "code",
   "execution_count": null,
   "metadata": {},
   "outputs": [],
   "source": [
    "\n",
    "# Initializing a list of feature names for scaling\n",
    "scaler_list= [i for i in bb_train.columns if bb_train[i].nunique() > 2]\n",
    "\n",
    "# Scaling the variables and saving in our dataframe:\n",
    "bb_train[scaler_list]= scaler.fit_transform(bb_train[scaler_list])\n"
   ]
  },
  {
   "cell_type": "code",
   "execution_count": null,
   "metadata": {},
   "outputs": [],
   "source": [
    "\n",
    "# Inspecting bb_train:\n",
    "bb_train.head()\n"
   ]
  },
  {
   "cell_type": "markdown",
   "metadata": {},
   "source": [
    "## Section 5.4: Splitting Training Dataset in X & y"
   ]
  },
  {
   "cell_type": "code",
   "execution_count": null,
   "metadata": {},
   "outputs": [],
   "source": [
    "\n",
    "# Splitting in X and y\n",
    "\n",
    "y_train= bb_train.pop('cnt')\n",
    "X_train= bb_train\n"
   ]
  },
  {
   "cell_type": "code",
   "execution_count": null,
   "metadata": {},
   "outputs": [],
   "source": [
    "\n",
    "# Inspecting shapes of X_train and y_train\n",
    "print(f'X_train shape: {X_train.shape}, y_train shape: {y_train.shape}')\n"
   ]
  },
  {
   "cell_type": "markdown",
   "metadata": {},
   "source": [
    "<b>Observations:</b>\n",
    "- Data has been properly split in X_train & y_train with both having 511 rows, X_train having 26 columns and y_train having 1 column."
   ]
  },
  {
   "cell_type": "code",
   "execution_count": null,
   "metadata": {},
   "outputs": [],
   "source": [
    "\n",
    "# Inspecting X_train:\n",
    "X_train.head(2)\n"
   ]
  },
  {
   "cell_type": "code",
   "execution_count": null,
   "metadata": {},
   "outputs": [],
   "source": [
    "\n",
    "# Inspecting y_train:\n",
    "y_train.head(2)\n"
   ]
  },
  {
   "cell_type": "markdown",
   "metadata": {},
   "source": [
    "## Section 5.5: Model Development"
   ]
  },
  {
   "cell_type": "markdown",
   "metadata": {},
   "source": [
    "Researcher has decided to use combination of automated feature selection:\n",
    "- <b>Automated Selection:</b>During the initial stage, researcher will use RFE (Recursive Feature Selection) for automated model selection. In line with industry practice, researcher will explicitly inform RFE function to halve the number of features of given dfataset based on their importance ranking.\n",
    "- <b>Manual Selection: </b>Post automated approach, researcher will fine-tune the feature selection using manual approach based on knowledge gained from external desk research and intuition."
   ]
  },
  {
   "cell_type": "markdown",
   "metadata": {},
   "source": [
    "### Section 5.5.1: Recursive Feature Elimination (RFE)"
   ]
  },
  {
   "cell_type": "code",
   "execution_count": null,
   "metadata": {},
   "outputs": [],
   "source": [
    "\n",
    "#Creating an instance of LinearRegression\n",
    "lm= LinearRegression()\n",
    "\n",
    "#Fitting model with X Train and y train:\n",
    "lm.fit(X_train, y_train)\n",
    "\n",
    "#Creating RFE instance on fitted lm:\n",
    "rfe= RFE(lm, 15)\n",
    "\n",
    "#Converting rfe to fitted rfe\n",
    "rfe= rfe.fit(X_train, y_train)\n"
   ]
  },
  {
   "cell_type": "code",
   "execution_count": null,
   "metadata": {},
   "outputs": [],
   "source": [
    "\n",
    "# Brief visual observation of results:\n",
    "list(zip(X_train.columns, rfe.support_, rfe.ranking_))\n"
   ]
  },
  {
   "cell_type": "markdown",
   "metadata": {},
   "source": [
    "<b>Observations:</b>\n",
    "- Above results show the suggestions given by RFE function to retain top 15 features.\n",
    "- Researcher arrived at 15 as retained features due to indutrial preferred practice of taking half the variables in account while operating RFE function.\n",
    "- Wherever the boolean returnd by rfe.supprt_ is True, is the feature suggested by RFE to be included in the model."
   ]
  },
  {
   "cell_type": "markdown",
   "metadata": {},
   "source": [
    "<b>Using above results to extract 15 most index columns in train dataset</b>"
   ]
  },
  {
   "cell_type": "code",
   "execution_count": null,
   "metadata": {},
   "outputs": [],
   "source": [
    "\n",
    "# Initializing another dataframe\n",
    "temp_rfe_df= pd.DataFrame()\n",
    "\n",
    "# Adding names of features:\n",
    "temp_rfe_df['Col']= X_train.columns\n",
    "\n",
    "# Adding rfe.support_ to dataframe (Returns bool type value: True if feature is recommended to be kept and False otherwise)\n",
    "temp_rfe_df['RFE_Support']= rfe.support_\n",
    "\n",
    "# Retaining only the values that are recommended to be included in initial model\n",
    "temp_rfe_df= temp_rfe_df[temp_rfe_df['RFE_Support']== True]\n",
    "\n",
    "#Inspecting dataframe\n",
    "temp_rfe_df\n"
   ]
  },
  {
   "cell_type": "code",
   "execution_count": null,
   "metadata": {},
   "outputs": [],
   "source": [
    "\n",
    "# Initializing a list of features that are to be included in initial model signalled by above dataframe\n",
    "my_cols= [i for i in temp_rfe_df['Col']]\n",
    "\n",
    "# Retaining features that are recommended in X_train\n",
    "X_train[my_cols].head()\n"
   ]
  },
  {
   "cell_type": "code",
   "execution_count": null,
   "metadata": {},
   "outputs": [],
   "source": [
    "print(f'Final dataframe for model training has {X_train[my_cols].shape[0]} rows and {X_train[my_cols].shape[1]} columns.')"
   ]
  },
  {
   "cell_type": "markdown",
   "metadata": {},
   "source": [
    "### Section 5.5.2: Model Development"
   ]
  },
  {
   "cell_type": "markdown",
   "metadata": {},
   "source": [
    "<b>During model development stage:</b>\n",
    "\n",
    "<b>Variance Influence Factor:</b> Also known as VIF available in statsmodel library will be used to determine the variable that needs to be dropped to handle multicollinearity. `We will consider a threshold of 5 beyond which we will drop those variables (Unless any logic forces us to believe in keeping those particular variables in the dataset)`.\n",
    "\n",
    "<b>Ordinary Least Squares:</b> We will use statsmodel to develop the Linear Regression model using OLS (Ordinary Least Squares) method. It is available in Statsmodel library and aims to minimize sum of residual squares to determine most ideal regression line. `We will consider a threshold of 0.05 p-value beyond which we will drop those variables one by one (Unless any logic forces us to believe in keeping those particular variables in the dataset)`.\n",
    "\n",
    "<b>`During model development, we will start with all the variables in beginning calculating VIF for each of the variables and then building regression model using OLS. We will observe a combination of VIF values and p-values generated by the OLS model and drop the insignificant variables one by one. With each variable being dropped, an increase in R Squared is expected and p-values of leftover variables is expected to reduce and finally we will be left with all significant variables and a workable model.`</b>"
   ]
  },
  {
   "cell_type": "markdown",
   "metadata": {},
   "source": [
    "#### Section 5.5.2.1: Defining Functions"
   ]
  },
  {
   "cell_type": "code",
   "execution_count": null,
   "metadata": {},
   "outputs": [],
   "source": [
    "\n",
    "# Defining function for VIF table\n",
    "\n",
    "def vif_table(dataframe):\n",
    "    \n",
    "    # Initialize a dataframe\n",
    "    vif= pd.DataFrame()\n",
    "    \n",
    "    # Adding feature names\n",
    "    vif['Feature']= dataframe.columns\n",
    "    \n",
    "    # Adding feature VIF values\n",
    "    vif['VIF Value']= [round(variance_inflation_factor(dataframe.values, i), 2) for i in range(len(dataframe.columns))]\n",
    "    \n",
    "    # Sorting dataframe\n",
    "    vif= vif.sort_values(by= 'VIF Value', ascending= False)\n",
    "    \n",
    "    # Output\n",
    "    return vif\n"
   ]
  },
  {
   "cell_type": "code",
   "execution_count": null,
   "metadata": {},
   "outputs": [],
   "source": [
    "\n",
    "# Defining function for Regression Statistics\n",
    "\n",
    "def regmodel_ols(y_dataframe, X_dataframe):\n",
    "\n",
    "    # Adding constant - statsmodel needs a constant to be explicitly added\n",
    "    X_dataframe= sm.add_constant(X_dataframe)\n",
    "\n",
    "    # Creating Linear Regression instance based on OLS and fitting the data and creating summary\n",
    "    lm= sm.OLS(y_dataframe, X_dataframe).fit()\n",
    "\n",
    "    # Priting statistical summary\n",
    "    print(lm.summary())\n"
   ]
  },
  {
   "cell_type": "code",
   "execution_count": null,
   "metadata": {},
   "outputs": [],
   "source": [
    "\n",
    "# Initializing dataframe:\n",
    "X_train_1= X_train[my_cols]\n"
   ]
  },
  {
   "cell_type": "markdown",
   "metadata": {},
   "source": [
    "##### Section 5.5.2.2: Building Model"
   ]
  },
  {
   "cell_type": "code",
   "execution_count": null,
   "metadata": {},
   "outputs": [],
   "source": [
    "\n",
    "# Building Regression Model\n",
    "regmodel_ols(y_train, X_train_1)\n"
   ]
  },
  {
   "cell_type": "markdown",
   "metadata": {},
   "source": [
    "<b>Observations:</b>\n",
    "- Above model shows R Squared value of 0.845 (84.5% variance in target variable is explained by the given 15 variables).\n",
    "- Adjusted R Squared is 0.840\n",
    "- P Value of all variables are within the acceptable threshold of 0.05 and hence dropping any variable will not be logical.\n",
    "- It is important to keep the model simple and less complicated while maintaining efficacy and hence it is advisable to reduce the number of features (Currently 15)."
   ]
  },
  {
   "cell_type": "code",
   "execution_count": null,
   "metadata": {},
   "outputs": [],
   "source": [
    "\n",
    "# Inspecting VIF values:\n",
    "vif_table(X_train_1)\n"
   ]
  },
  {
   "cell_type": "markdown",
   "metadata": {},
   "source": [
    "<b>Observations:</b>\n",
    "- VIF of hum and temp is very high and not in acceptable limits.\n",
    "- All our p-values are within the acceptable limits and hence, it is not possible to decide based on p-values which feature has to be dropped next.\n",
    "- Both these variables are significant and their removal will affect the R Sqaured and adjusted R Squared values negatively. On doing hit and trial, researcher has found that dropping `hum` will lead to relatively lesser impact on R Squared and Adjusted R Squared values as compared to that of temp. Hence, we will drop `hum` before we redevelop the model."
   ]
  },
  {
   "cell_type": "code",
   "execution_count": null,
   "metadata": {},
   "outputs": [],
   "source": [
    "\n",
    "# Dropping 'temp' column:\n",
    "X_train_2= X_train_1.drop(labels= 'hum', axis= 1)\n",
    "\n",
    "# Rebuilding Model\n",
    "regmodel_ols(y_train, X_train_2)\n"
   ]
  },
  {
   "cell_type": "markdown",
   "metadata": {},
   "source": [
    "<b>Observations:</b>\n",
    "- R Squared and adjusted R Squared values have shown substantial decline, however, our VIF values are probably within limits making our model valid.\n",
    "- Rechecking the VIF values"
   ]
  },
  {
   "cell_type": "code",
   "execution_count": null,
   "metadata": {},
   "outputs": [],
   "source": [
    "vif_table(X_train_2)"
   ]
  },
  {
   "cell_type": "markdown",
   "metadata": {},
   "source": [
    "<b>Observations:</b>\n",
    "- Value of `temp` is still beyond the acceptable limits to accept the model as valid. It shows high collinearity making model invalid.\n",
    "- On closer inspection, researcher found that feature `Summer`, if dropped does not have a strong impact on our R Squared value whereas dropping temp will significantly affect our R Squared score.\n",
    "- Dropping `Summer` feature"
   ]
  },
  {
   "cell_type": "code",
   "execution_count": null,
   "metadata": {},
   "outputs": [],
   "source": [
    "\n",
    "# Dropping 'temp' column:\n",
    "X_train_3= X_train_2.drop(labels= 'Summer', axis= 1)\n",
    "\n",
    "# Rebuilding Model\n",
    "regmodel_ols(y_train, X_train_3)\n"
   ]
  },
  {
   "cell_type": "markdown",
   "metadata": {},
   "source": [
    "<b>Observations:</b>\n",
    "- Note the impact on R Squared and adjusted R Squared scores is minimal.\n",
    "- Note that p value of feature 'Nov' is not within acceptable limits"
   ]
  },
  {
   "cell_type": "code",
   "execution_count": null,
   "metadata": {},
   "outputs": [],
   "source": [
    "\n",
    "# Re inspecting VIF values\n",
    "vif_table(X_train_3)\n"
   ]
  },
  {
   "cell_type": "markdown",
   "metadata": {},
   "source": [
    "<b>Observations:</b>\n",
    "- Note that all features are now within acceptable limits of VIF value.\n",
    "- We will still have to drop `Nov` from our model because it's p-value is not in acceptable limits"
   ]
  },
  {
   "cell_type": "code",
   "execution_count": null,
   "metadata": {},
   "outputs": [],
   "source": [
    "\n",
    "# Dropping 'temp' column:\n",
    "X_train_4= X_train_3.drop(labels= 'Nov', axis= 1)\n",
    "\n",
    "# Rebuilding Model\n",
    "regmodel_ols(y_train, X_train_4)\n"
   ]
  },
  {
   "cell_type": "markdown",
   "metadata": {},
   "source": [
    "<b>Observations:</b>\n",
    "- Note slight decrease in R Squared and adjusted R Squared values.\n",
    "- None of the p-values are beyond teh threshold of 0.05\n",
    "- We still have 12 variables making it very complex. Hence, dropping the next best variable `Dec` for further fine tuning"
   ]
  },
  {
   "cell_type": "code",
   "execution_count": null,
   "metadata": {},
   "outputs": [],
   "source": [
    "\n",
    "# Re-Inspecting VIF values for final affirmation:\n",
    "vif_table(X_train_4)\n"
   ]
  },
  {
   "cell_type": "markdown",
   "metadata": {},
   "source": [
    "<b>Observations:</b>\n",
    "- All VIF values are within limits.\n",
    "- Since the number of variables is high, we will drop the next best variable `Dec` to make the model simpler"
   ]
  },
  {
   "cell_type": "code",
   "execution_count": null,
   "metadata": {},
   "outputs": [],
   "source": [
    "\n",
    "# Dropping 'Dec' column:\n",
    "X_train_5= X_train_4.drop(labels= 'Dec', axis= 1)\n",
    "\n",
    "# Rebuilding Model\n",
    "regmodel_ols(y_train, X_train_5)\n"
   ]
  },
  {
   "cell_type": "markdown",
   "metadata": {},
   "source": [
    "<b>Observations:</b>\n",
    "- Note the impact on R Squared and adjusted R Squared as been extremely minute but the model has become slightly simpler with reduction of a variable\n",
    "- Dropping `Jan` feature"
   ]
  },
  {
   "cell_type": "code",
   "execution_count": null,
   "metadata": {},
   "outputs": [],
   "source": [
    "\n",
    "# Dropping 'Jan' column:\n",
    "X_train_6= X_train_5.drop(labels= 'Jan', axis= 1)\n",
    "\n",
    "# Rebuilding Model\n",
    "regmodel_ols(y_train, X_train_6)\n"
   ]
  },
  {
   "cell_type": "markdown",
   "metadata": {},
   "source": [
    "<b>Observations:</b>\n",
    "- Note slight impact on R Squared and Adjusted R Square but model has become simpler with 10 variables."
   ]
  },
  {
   "cell_type": "code",
   "execution_count": null,
   "metadata": {},
   "outputs": [],
   "source": [
    "\n",
    "# Re-Inspecting VIF values for final affirmation:\n",
    "vif_table(X_train_6)\n"
   ]
  },
  {
   "cell_type": "markdown",
   "metadata": {},
   "source": [
    "<b>Observations:</b>\n",
    "- All VIF Values are in proper limit thus fulfilling the `assumption of Multicollinearity` and making our model valid."
   ]
  },
  {
   "cell_type": "markdown",
   "metadata": {},
   "source": [
    "<b>As shown above, one of the assumptions of Liner Regression is satisfied:\n",
    "\n",
    "- `None of the features in our model are related to one or combination of more then one features.`</b>"
   ]
  },
  {
   "cell_type": "markdown",
   "metadata": {},
   "source": [
    "## Section 5.3: Residual Analysis"
   ]
  },
  {
   "cell_type": "markdown",
   "metadata": {},
   "source": [
    "### Section 5.3.1: Normal Distribution of Errors"
   ]
  },
  {
   "cell_type": "code",
   "execution_count": null,
   "metadata": {},
   "outputs": [],
   "source": [
    "lm= sm.OLS(y_train, X_train_6).fit()\n",
    "ytrain_pred= lm.predict(X_train_6)\n",
    "residuals= y_train-ytrain_pred"
   ]
  },
  {
   "cell_type": "code",
   "execution_count": null,
   "metadata": {},
   "outputs": [],
   "source": [
    "# Building subplots:\n",
    "fig, ax= plt.subplots(nrows= 1, ncols= 2, figsize= (20, 6))\n",
    "\n",
    "# Setting main title:\n",
    "plt.suptitle('plots showing normal distribution of errors'.upper(), fontsize= 25)\n",
    "\n",
    "# Populating first plot:\n",
    "sns.scatterplot(y= residuals.values, x= ytrain_pred.values, palette= 'Purples', ax= ax[0])\n",
    "sns.lineplot(y= residuals.mean(), x= ytrain_pred.values, palette= 'Purples', ax= ax[0])\n",
    "\n",
    "# Title, ylabel and xlabel setting of first plot:\n",
    "ax[0].set_title('residuals vs predictions'.upper(), fontsize= 16)\n",
    "ax[0].set_ylabel('residuals'.title(), fontsize= 12)\n",
    "ax[0].set_xlabel('y train predictions'.title(), fontsize= 12)\n",
    "\n",
    "# Populating second plot:\n",
    "sns.distplot(residuals, bins=10, color= 'Purple', ax= ax[1])\n",
    "\n",
    "# Title, ylabel and xlabel setting of second plot:\n",
    "ax[1].set_title('error terms'.upper(), fontsize= 16)\n",
    "ax[1].set_ylabel('')\n",
    "ax[1].set_xlabel('errors'.title(), fontsize= 12)\n",
    "\n",
    "plt.tight_layout()\n",
    "plt.show()\n"
   ]
  },
  {
   "cell_type": "markdown",
   "metadata": {},
   "source": [
    "<b>Observations:</b>\n",
    "- Mean of the residuals is extremely close to 0 `(Residual Mean: 0.00743)`\n",
    "- For smaller values of predictions, the residuals are found to be on higher side and focussed above the mean value of 0. However, as we move further to larger predictions.\n",
    "- This validates our assumption of normal distribution of errors around mean of 0"
   ]
  },
  {
   "cell_type": "markdown",
   "metadata": {},
   "source": [
    "### Section 5.3.2: Testing for Homoscedasticity"
   ]
  },
  {
   "cell_type": "code",
   "execution_count": null,
   "metadata": {},
   "outputs": [],
   "source": [
    "\n",
    "# Initiating a variable to save Series containing residuals\n",
    "residuals= y_train-ytrain_pred\n",
    "\n",
    "# Plotting residuals against predicted values\n",
    "\n",
    "# Defining Figure Dimensions\n",
    "plt.figure(figsize= (10,4))\n",
    "\n",
    "# Plotting the residuals\n",
    "sns.scatterplot(y= y_train, x= ytrain_pred, palette= 'Purples')\n",
    "\n",
    "# Setting title, ylabel and xlabel\n",
    "plt.title('y train values vs predictions'.upper(), fontsize= 16)\n",
    "plt.ylabel('y train'.title(), fontsize= 12)\n",
    "plt.xlabel('y train predictions'.title(), fontsize= 12)\n",
    "\n",
    "plt.show()\n"
   ]
  },
  {
   "cell_type": "markdown",
   "metadata": {},
   "source": [
    "<b>Observations:</b>\n",
    "- The plot above shows an almost constant variance of predictions and thus the errors validating the assumption of Homoscedasticity"
   ]
  },
  {
   "cell_type": "markdown",
   "metadata": {},
   "source": [
    "### Section 5.3.3: Testing for correlation between Error Terms"
   ]
  },
  {
   "cell_type": "code",
   "execution_count": null,
   "metadata": {},
   "outputs": [],
   "source": [
    "\n",
    "# Initiating a variable to save Series containing residuals\n",
    "residuals= y_train-ytrain_pred\n",
    "\n",
    "# Plotting residuals against predicted values\n",
    "\n",
    "# Defining Figure Dimensions\n",
    "plt.figure(figsize= (10,4))\n",
    "\n",
    "# Plotting the residuals\n",
    "sns.scatterplot(y= y_train, x= residuals, palette= 'Purples')\n",
    "\n",
    "# Setting title, ylabel and xlabel\n",
    "plt.title('y train values vs predictions'.upper(), fontsize= 16)\n",
    "plt.ylabel('y train'.title(), fontsize= 12)\n",
    "plt.xlabel('y train predictions'.title(), fontsize= 12)\n",
    "\n",
    "plt.show()\n"
   ]
  },
  {
   "cell_type": "markdown",
   "metadata": {},
   "source": [
    "## Section 5.4: Making Predictions"
   ]
  },
  {
   "cell_type": "markdown",
   "metadata": {},
   "source": [
    "### Section 5.4.1: Applying Scaling on Test Dataset"
   ]
  },
  {
   "cell_type": "markdown",
   "metadata": {},
   "source": [
    "Our scaler instance of MinMaxScaler is already initiated. We shall use the same scaler to rescale our test data variables. the scaled feature names are stored in the variable scaler_list from the rescaling activity of train set. We shall use the same to scale test data."
   ]
  },
  {
   "cell_type": "code",
   "execution_count": null,
   "metadata": {},
   "outputs": [],
   "source": [
    "\n",
    "# Inspecting test data before scaling:\n",
    "bb_test.sample(5)\n"
   ]
  },
  {
   "cell_type": "code",
   "execution_count": null,
   "metadata": {},
   "outputs": [],
   "source": [
    "\n",
    "# Scaling the variables and saving in our dataframe:\n",
    "bb_test[scaler_list]= scaler.transform(bb_test[scaler_list])\n"
   ]
  },
  {
   "cell_type": "markdown",
   "metadata": {},
   "source": [
    "<b>Note:</b>\n",
    "- scaler is already fitted on the train data set, hence, in this step we did not use fit() or fit_transform() and used just transform() method."
   ]
  },
  {
   "cell_type": "code",
   "execution_count": null,
   "metadata": {},
   "outputs": [],
   "source": [
    "\n",
    "# Inspecting test data post scaling:\n",
    "bb_test.sample(5)\n"
   ]
  },
  {
   "cell_type": "markdown",
   "metadata": {},
   "source": [
    "### Section 5.4.2: Partitioning the data into X_Test and y_Test"
   ]
  },
  {
   "cell_type": "code",
   "execution_count": null,
   "metadata": {},
   "outputs": [],
   "source": [
    "\n",
    "y_test= bb_test.pop('cnt')\n",
    "X_test= bb_test\n"
   ]
  },
  {
   "cell_type": "code",
   "execution_count": null,
   "metadata": {},
   "outputs": [],
   "source": [
    "\n",
    "#Inspecting X_test\n",
    "X_test.head()\n"
   ]
  },
  {
   "cell_type": "code",
   "execution_count": null,
   "metadata": {},
   "outputs": [],
   "source": [
    "\n",
    "# Inspecting the test set shape:\n",
    "\n",
    "print(f'X_test shape is: {X_test.shape}')\n",
    "print(f'y_test shape is: {y_test.shape}')\n"
   ]
  },
  {
   "cell_type": "markdown",
   "metadata": {},
   "source": [
    "### Section 5.4.5: Making Actual Predictions"
   ]
  },
  {
   "cell_type": "code",
   "execution_count": null,
   "metadata": {},
   "outputs": [],
   "source": [
    "\n",
    "# Creating X_test_new dataframe by dropping variables from X_test\n",
    "X_test_new = X_test[X_train_6.columns]\n"
   ]
  },
  {
   "cell_type": "code",
   "execution_count": null,
   "metadata": {},
   "outputs": [],
   "source": [
    "\n",
    "# Making predictions\n",
    "y_test_pred = lm.predict(X_test_new)\n"
   ]
  },
  {
   "cell_type": "markdown",
   "metadata": {},
   "source": [
    "## Section 5.5: Evaluating the predictions"
   ]
  },
  {
   "cell_type": "code",
   "execution_count": null,
   "metadata": {},
   "outputs": [],
   "source": [
    "# Plotting y_test and y_pred to understand the spread.\n",
    "fig = plt.figure(figsize= (10, 4))\n",
    "\n",
    "# Plotting figure\n",
    "sns.regplot(x= y_test,y= y_test_pred, scatter_kws= {'color': 'yellow'}, line_kws= {'color': 'purple'})\n",
    "\n",
    "# Setting title, X and Y labels\n",
    "plt.title('actual y test vs predicted y test'.upper(), fontsize=20)\n",
    "plt.xlabel('y test values', fontsize=14)                \n",
    "plt.ylabel('predicted y test values', fontsize=14)  \n",
    "\n",
    "plt.show()\n"
   ]
  },
  {
   "cell_type": "markdown",
   "metadata": {},
   "source": [
    "<b>Observations:</b>\n",
    "- Y Test values and Y Test predicted values have shown a strong visual semblence and hence our predicted are evaluated as a healthy fit. We do have presence of outliers, however, on a broader scale, most of the points display a healthy fit by following a trend."
   ]
  },
  {
   "cell_type": "markdown",
   "metadata": {},
   "source": [
    "## Section 5.6: Assessing the Model Quality And Generalization Ability"
   ]
  },
  {
   "cell_type": "code",
   "execution_count": null,
   "metadata": {},
   "outputs": [],
   "source": [
    "print('R2 score of test data predictions:', round(r2_score(y_pred= y_test_pred, y_true= y_test), 5))\n",
    "print('R2 score of train data predictions:', round(r2_score(y_pred= ytrain_pred, y_true= y_train), 5))\n",
    "print('Absolute difference between R2 scores of test and train dataset predictions:', \n",
    "     abs(round(r2_score(y_pred= y_test_pred, y_true= y_test) - r2_score(y_pred= ytrain_pred, y_true= y_train), 5)))"
   ]
  },
  {
   "cell_type": "markdown",
   "metadata": {},
   "source": [
    "<b>`Since variation between train data prediction and test data prediction r2_score is less then 5%, model is proven to be dependable enough to be generalized.`</b>"
   ]
  },
  {
   "cell_type": "markdown",
   "metadata": {},
   "source": [
    "## Section 5.7: Equation for prediction"
   ]
  },
  {
   "cell_type": "code",
   "execution_count": null,
   "metadata": {},
   "outputs": [],
   "source": [
    "\n",
    "# Initiating const variable for constant\n",
    "const= 0.2526       # This information is taken from X_train_6 OLS model above\n",
    "\n",
    "# Parameters Series:\n",
    "parameter_series= pd.Series(lm.params)\n",
    "print(parameter_series)\n"
   ]
  },
  {
   "cell_type": "code",
   "execution_count": null,
   "metadata": {},
   "outputs": [],
   "source": [
    "\n",
    "# Equation:\n",
    "\n",
    "print(f'Demand = {round(const, 3)}')\n",
    "for i in range(len(parameter_series)):\n",
    "    if i != len(parameter_series)-1:\n",
    "        print(f'\\t{parameter_series.index[i]} x {round(parameter_series.values[i], 3)} + ')\n",
    "    else:\n",
    "        print(f'\\t{parameter_series.index[i]} x {round(parameter_series.values[i], 3)} ')\n"
   ]
  },
  {
   "cell_type": "markdown",
   "metadata": {},
   "source": [
    "<b>Demand =</b> 0.253 + (<b><i>Year</i></b> x 0.242) + (<b><i>Temperature</i></b> x 0.731) + (<b><i>Spring</i></b> x 0.003) + (<b><i>Winter</i></b> x 0.128) + (<b><i>September</i></b> x 0.054) - (<b><i>Light Rain or Snow</i></b> x 0.278) - (<b><i>Misty and Cloudy</i></b> x 0.06) - (<b><i>Holiday</i></b> x 0.094) - (<b><i>July</b></i> x 0.101) - (<b><i>Windspeed</i></b> x 0.023)"
   ]
  },
  {
   "cell_type": "markdown",
   "metadata": {},
   "source": [
    "<b>Notes:</b>\n",
    "- Coefficients of `Year`, `Temperature`, `Spring`, `Winter` and `September` are positive\n",
    "- Coefficients of `Light Rain or snow`, `Misty and Cloudy`, `Holiday`, `July` and `Windspeed` are negative\n",
    "- Constant is 0.253. That is, if all variables are kept as 0, the demand will be 0.253."
   ]
  },
  {
   "cell_type": "markdown",
   "metadata": {},
   "source": [
    "<b>Model Explanation:</b>\n",
    "- If all variables are kept as 0, the demand will be 0.253.\n",
    "- Following logical conclusions can be derived from above equation if all external and internal variables are stable:\n",
    "    - If other features remain unchanged, with every change of year, demand is expected to increase 0.242 units.\n",
    "    - If other features remain unchanged, demand is expected to increase by 0.003 units in the months corresponding to Spring season.\n",
    "    - If other features remain unchanged, demand is expected to increase by 0.128 units in the months corresponding to Winter season.\n",
    "    - If other features remain unchanged, demand is expected to increase by 0.054 units in September month.\n",
    "    - If other features remain unchanged, demand is expected to decrease by 0.278 factors on the days of light rain &/ or snow.\n",
    "    - If other features remain unchanged, demand is expected to decrease by 0.06 factors in Misty or Cloudy weather.\n",
    "    - If other features remain unchanged, demand is expected to decrease by 0.094 factors on Holidays.\n",
    "    - If other features remain unchanged, demand is expected to decrease by 0.101 factors in the month of July.\n",
    "    - If other features remain unchanged, demand is expected to decrease by factor of 0.023  with every increase in the factor of rainfall measure.\n",
    "    "
   ]
  },
  {
   "cell_type": "code",
   "execution_count": null,
   "metadata": {},
   "outputs": [],
   "source": [
    "\n",
    "# Defining a function to find top 'n' features\n",
    "def nImportantFeatures(series, n):\n",
    "    series= series.sort_values(key= lambda x: abs(x), ascending= False)\n",
    "    return series.head(n)\n"
   ]
  },
  {
   "cell_type": "code",
   "execution_count": null,
   "metadata": {
    "scrolled": true
   },
   "outputs": [],
   "source": [
    "\n",
    "# Identifying all features in decreasing order of importance/ relevance\n",
    "descending_importance= nImportantFeatures(parameter_series, len(parameter_series))\n",
    "descending_importance\n"
   ]
  },
  {
   "cell_type": "markdown",
   "metadata": {},
   "source": [
    "<b>Plotting all features on decreasing order of magnitude of importance</b>"
   ]
  },
  {
   "cell_type": "code",
   "execution_count": null,
   "metadata": {},
   "outputs": [],
   "source": [
    "\n",
    "# Defining plot size\n",
    "plt.figure(figsize= (18, 5))\n",
    "\n",
    "# Plotting\n",
    "sns.barplot(x= descending_importance.index, y= descending_importance.values, palette= 'Purples_r')\n",
    "\n",
    "# Defining Plot Title, X Label and Y Label\n",
    "plt.title('all features in decreasing order of strength of their influence on target variable'.upper(), fontsize= 20)\n",
    "plt.xlabel('feature name'.title(), fontsize= 13)\n",
    "plt.ylabel('feature strength'.title(), fontsize= 13)\n",
    "\n",
    "plt.show()\n"
   ]
  },
  {
   "cell_type": "markdown",
   "metadata": {},
   "source": [
    "# Section 6: Business Recommendations"
   ]
  },
  {
   "cell_type": "markdown",
   "metadata": {},
   "source": [
    "<b>Given equation is too complex for business decision making. Hence, we will consider top 5 predictors to generate absolutely essential buisness recommendations and will be more practical in nature based on which business recommendation will be made</b>"
   ]
  },
  {
   "cell_type": "code",
   "execution_count": null,
   "metadata": {},
   "outputs": [],
   "source": [
    "\n",
    "# Identifying Top 5 predictors\n",
    "top_5_features= nImportantFeatures(parameter_series, 5)\n",
    "top_5_features\n"
   ]
  },
  {
   "cell_type": "markdown",
   "metadata": {},
   "source": [
    "<b>Plotting the top 5 features based on feature strength</b>"
   ]
  },
  {
   "cell_type": "code",
   "execution_count": null,
   "metadata": {},
   "outputs": [],
   "source": [
    "\n",
    "# Defining plot size\n",
    "plt.figure(figsize= (10, 5))\n",
    "\n",
    "# Plotting\n",
    "sns.barplot(x= top_5_features.index, y= top_5_features.values, palette= 'Purples_r')\n",
    "\n",
    "# Defining Plot Title, X Label and Y Label\n",
    "plt.title('top 5 influencing features in decreasing order of strength'.upper(), fontsize= 18)\n",
    "plt.xlabel('feature name'.title(), fontsize= 13)\n",
    "plt.ylabel('feature strength'.title(), fontsize= 13)\n",
    "\n",
    "plt.show()\n"
   ]
  },
  {
   "cell_type": "markdown",
   "metadata": {},
   "source": [
    "## Section 6.1: Final Business Recommendations Based on Above"
   ]
  },
  {
   "cell_type": "markdown",
   "metadata": {},
   "source": [
    "<b>Following logical conclusions can be derived from above equation if all external and internal variables are stable:</b>\n",
    "\n",
    "- `Most important factor affecting demand is temperature. With a coefficient of 0.73126, for every change in temperature of 1 degrees, demand increases by a factor of 0.73126 (temperature x 0.73126). Based on this, company will have to consider:`\n",
    "    - Necessary capacity building during hotter months to fulfill the demand:\n",
    "        - Recall from our EDA section that hottest months lie in Fall season, June, July and Aug being the hottest.\n",
    "    - If the company is able to scale up its resources to meet the increasing demand in these 3 months, it will also be wise to invest in increased marketing and promotional activities if more competitors operate in the same market with similar offering.\n",
    "    \n",
    "    \n",
    "- `Second most important factor is Light Rain or Snow with a coefficient of -0.27750. Hence, if a particular day has light rains, it is expected to reduce the demand by 27.7%.`\n",
    "    - Recall from our EDA section that frequency of light rains has been lowest and heavy rains have largely been non existant. October month shows the maximum number of instances of light rains.\n",
    "        - Based on this, it is recommended to develop a sentiment based advertisement plan that heavily promotes \"fun element\" of \"riding bikes in the rain with family\".\n",
    " \n",
    " \n",
    "- `Third most important factor is year with a coefficient value of 0.24236. Based on the historical data, given all internal and external factors remain unchanged, the company is expected to see annual growth over last year at around 24%.`\n",
    "    - This helps us in factoring teh revenue and cost projections over a period of time.\n",
    " \n",
    " \n",
    "- `Fourth most important factor is winter with a coefficient of 0.12793. Tihs signifies that every winter, the demand is expecteed to incerase by a factor of 0.12793 basd on other months. `\n",
    "    - Recall from our EDA section, we recollect that Winter season constitutes of Sep, Oct, Nov and December months.\n",
    "        - Company needs to work on capacity planing of these months and additionally plan for promotional campaigns in case a competitors exist with similar value propositions.\n",
    "     \n",
    "     \n",
    "- `Fifth most important variable is the month of July with a coefficient weightage of -0.10141 which signifies that every July the demand is expected to drop by a factor of 0.10141 (Around 10%)`\n",
    "    - Since month of July is also one of the hottest months, its relative weightage will simply decrease as compared to June and August. Hence, by logic, we can exclude month of July from our past recommendation.\n"
   ]
  }
 ],
 "metadata": {
  "kernelspec": {
   "display_name": "Python 3",
   "language": "python",
   "name": "python3"
  },
  "language_info": {
   "codemirror_mode": {
    "name": "ipython",
    "version": 3
   },
   "file_extension": ".py",
   "mimetype": "text/x-python",
   "name": "python",
   "nbconvert_exporter": "python",
   "pygments_lexer": "ipython3",
   "version": "3.8.5"
  }
 },
 "nbformat": 4,
 "nbformat_minor": 4
}
